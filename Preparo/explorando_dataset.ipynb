{
 "cells": [
  {
   "cell_type": "markdown",
   "metadata": {},
   "source": [
    "# BIS(BIOPROCESS ASSISTANT SOFTWARE)"
   ]
  },
  {
   "cell_type": "markdown",
   "metadata": {},
   "source": [
    "## BIBLIOTECAS:"
   ]
  },
  {
   "cell_type": "code",
   "execution_count": 1,
   "metadata": {},
   "outputs": [],
   "source": [
    "import pandas as pd\n",
    "import numpy as np\n",
    "from numpy import prod  # Substituir a importação\n",
    "from lmfit import Model\n",
    "import lmfit\n",
    "import matplotlib.pyplot as plt\n",
    "import pprint\n",
    "import funcoes as fn"
   ]
  },
  {
   "cell_type": "markdown",
   "metadata": {},
   "source": [
    "## IMPORTANTO E TRABALHANDO COM OS DADOS:"
   ]
  },
  {
   "cell_type": "markdown",
   "metadata": {},
   "source": [
    "### Importando arquivos de exemplo:"
   ]
  },
  {
   "cell_type": "code",
   "execution_count": 2,
   "metadata": {},
   "outputs": [],
   "source": [
    "# Defina o caminho para o arquivo .xlsx\n",
    "caminho_arquivo = '/home/ABTLUS/daniel23020/Documentos/ILUM/4° Semestre/IP/BAS/dados_exemplo/GP_example_Ilum.xlsx'\n",
    "\n",
    "dataset_exemplo = pd.read_excel(caminho_arquivo, header=None)"
   ]
  },
  {
   "cell_type": "code",
   "execution_count": 3,
   "metadata": {},
   "outputs": [
    {
     "data": {
      "text/html": [
       "<div>\n",
       "<style scoped>\n",
       "    .dataframe tbody tr th:only-of-type {\n",
       "        vertical-align: middle;\n",
       "    }\n",
       "\n",
       "    .dataframe tbody tr th {\n",
       "        vertical-align: top;\n",
       "    }\n",
       "\n",
       "    .dataframe thead th {\n",
       "        text-align: right;\n",
       "    }\n",
       "</style>\n",
       "<table border=\"1\" class=\"dataframe\">\n",
       "  <thead>\n",
       "    <tr style=\"text-align: right;\">\n",
       "      <th></th>\n",
       "      <th>0</th>\n",
       "      <th>1</th>\n",
       "      <th>2</th>\n",
       "      <th>3</th>\n",
       "      <th>4</th>\n",
       "      <th>5</th>\n",
       "      <th>6</th>\n",
       "      <th>7</th>\n",
       "      <th>8</th>\n",
       "      <th>9</th>\n",
       "      <th>...</th>\n",
       "      <th>87</th>\n",
       "      <th>88</th>\n",
       "      <th>89</th>\n",
       "      <th>90</th>\n",
       "      <th>91</th>\n",
       "      <th>92</th>\n",
       "      <th>93</th>\n",
       "      <th>94</th>\n",
       "      <th>95</th>\n",
       "      <th>96</th>\n",
       "    </tr>\n",
       "  </thead>\n",
       "  <tbody>\n",
       "    <tr>\n",
       "      <th>0</th>\n",
       "      <td>0.0</td>\n",
       "      <td>0.318</td>\n",
       "      <td>0.212</td>\n",
       "      <td>0.244</td>\n",
       "      <td>0.198</td>\n",
       "      <td>0.203</td>\n",
       "      <td>0.224</td>\n",
       "      <td>0.192</td>\n",
       "      <td>0.166</td>\n",
       "      <td>0.137</td>\n",
       "      <td>...</td>\n",
       "      <td>0.228</td>\n",
       "      <td>0.189</td>\n",
       "      <td>0.217</td>\n",
       "      <td>0.178</td>\n",
       "      <td>0.138</td>\n",
       "      <td>0.116</td>\n",
       "      <td>0.082</td>\n",
       "      <td>0.051</td>\n",
       "      <td>0.051</td>\n",
       "      <td>0.079</td>\n",
       "    </tr>\n",
       "    <tr>\n",
       "      <th>1</th>\n",
       "      <td>30.0</td>\n",
       "      <td>0.376</td>\n",
       "      <td>0.249</td>\n",
       "      <td>0.297</td>\n",
       "      <td>0.243</td>\n",
       "      <td>0.243</td>\n",
       "      <td>0.271</td>\n",
       "      <td>0.240</td>\n",
       "      <td>0.201</td>\n",
       "      <td>0.172</td>\n",
       "      <td>...</td>\n",
       "      <td>0.273</td>\n",
       "      <td>0.228</td>\n",
       "      <td>0.257</td>\n",
       "      <td>0.205</td>\n",
       "      <td>0.150</td>\n",
       "      <td>0.124</td>\n",
       "      <td>0.083</td>\n",
       "      <td>0.047</td>\n",
       "      <td>0.047</td>\n",
       "      <td>0.073</td>\n",
       "    </tr>\n",
       "    <tr>\n",
       "      <th>2</th>\n",
       "      <td>60.0</td>\n",
       "      <td>0.407</td>\n",
       "      <td>0.269</td>\n",
       "      <td>0.327</td>\n",
       "      <td>0.263</td>\n",
       "      <td>0.265</td>\n",
       "      <td>0.287</td>\n",
       "      <td>0.257</td>\n",
       "      <td>0.219</td>\n",
       "      <td>0.184</td>\n",
       "      <td>...</td>\n",
       "      <td>0.295</td>\n",
       "      <td>0.247</td>\n",
       "      <td>0.275</td>\n",
       "      <td>0.228</td>\n",
       "      <td>0.160</td>\n",
       "      <td>0.131</td>\n",
       "      <td>0.089</td>\n",
       "      <td>0.046</td>\n",
       "      <td>0.048</td>\n",
       "      <td>0.071</td>\n",
       "    </tr>\n",
       "    <tr>\n",
       "      <th>3</th>\n",
       "      <td>90.0</td>\n",
       "      <td>0.443</td>\n",
       "      <td>0.292</td>\n",
       "      <td>0.355</td>\n",
       "      <td>0.281</td>\n",
       "      <td>0.284</td>\n",
       "      <td>0.309</td>\n",
       "      <td>0.274</td>\n",
       "      <td>0.227</td>\n",
       "      <td>0.194</td>\n",
       "      <td>...</td>\n",
       "      <td>0.320</td>\n",
       "      <td>0.270</td>\n",
       "      <td>0.302</td>\n",
       "      <td>0.247</td>\n",
       "      <td>0.167</td>\n",
       "      <td>0.137</td>\n",
       "      <td>0.094</td>\n",
       "      <td>0.047</td>\n",
       "      <td>0.047</td>\n",
       "      <td>0.075</td>\n",
       "    </tr>\n",
       "    <tr>\n",
       "      <th>4</th>\n",
       "      <td>120.0</td>\n",
       "      <td>0.484</td>\n",
       "      <td>0.315</td>\n",
       "      <td>0.384</td>\n",
       "      <td>0.312</td>\n",
       "      <td>0.314</td>\n",
       "      <td>0.333</td>\n",
       "      <td>0.295</td>\n",
       "      <td>0.247</td>\n",
       "      <td>0.213</td>\n",
       "      <td>...</td>\n",
       "      <td>0.340</td>\n",
       "      <td>0.298</td>\n",
       "      <td>0.322</td>\n",
       "      <td>0.264</td>\n",
       "      <td>0.171</td>\n",
       "      <td>0.138</td>\n",
       "      <td>0.096</td>\n",
       "      <td>0.047</td>\n",
       "      <td>0.048</td>\n",
       "      <td>0.075</td>\n",
       "    </tr>\n",
       "  </tbody>\n",
       "</table>\n",
       "<p>5 rows × 97 columns</p>\n",
       "</div>"
      ],
      "text/plain": [
       "      0      1      2      3      4      5      6      7      8      9   ...  \\\n",
       "0    0.0  0.318  0.212  0.244  0.198  0.203  0.224  0.192  0.166  0.137  ...   \n",
       "1   30.0  0.376  0.249  0.297  0.243  0.243  0.271  0.240  0.201  0.172  ...   \n",
       "2   60.0  0.407  0.269  0.327  0.263  0.265  0.287  0.257  0.219  0.184  ...   \n",
       "3   90.0  0.443  0.292  0.355  0.281  0.284  0.309  0.274  0.227  0.194  ...   \n",
       "4  120.0  0.484  0.315  0.384  0.312  0.314  0.333  0.295  0.247  0.213  ...   \n",
       "\n",
       "      87     88     89     90     91     92     93     94     95     96  \n",
       "0  0.228  0.189  0.217  0.178  0.138  0.116  0.082  0.051  0.051  0.079  \n",
       "1  0.273  0.228  0.257  0.205  0.150  0.124  0.083  0.047  0.047  0.073  \n",
       "2  0.295  0.247  0.275  0.228  0.160  0.131  0.089  0.046  0.048  0.071  \n",
       "3  0.320  0.270  0.302  0.247  0.167  0.137  0.094  0.047  0.047  0.075  \n",
       "4  0.340  0.298  0.322  0.264  0.171  0.138  0.096  0.047  0.048  0.075  \n",
       "\n",
       "[5 rows x 97 columns]"
      ]
     },
     "execution_count": 3,
     "metadata": {},
     "output_type": "execute_result"
    }
   ],
   "source": [
    "dataset_exemplo.head()"
   ]
  },
  {
   "cell_type": "markdown",
   "metadata": {},
   "source": [
    "### Função: Tira média das triplicatas na horizontal e adiciona um nome a cada coluna."
   ]
  },
  {
   "cell_type": "code",
   "execution_count": 4,
   "metadata": {},
   "outputs": [],
   "source": [
    "def df_triplicatas(dataset):\n",
    "\n",
    "    dataset_sem_triplicatas = pd.DataFrame(dataset.iloc[:,0]) # Reservando a primeira coluna do dataset, correspondente ao tempo. \n",
    "\n",
    "    dataset_sem_triplicatas.columns = ['Tempo(horas)'] + list(dataset_sem_triplicatas.columns[1:])  # Substitua 'Novo_Nome' pelo nome desejado\n",
    "\n",
    "    # Divide os valores da primeira coluna por 60\n",
    "    dataset_sem_triplicatas[\"Tempo(horas)\"] = dataset_sem_triplicatas[\"Tempo(horas)\"] / 60 #transformando o tempo de minutos para hora\n",
    "\n",
    "\n",
    "    colunas = int((len(dataset.columns) - 1) / 3)\n",
    "\n",
    "    letras_colunas = [\"A\",\"B\",\"C\",\"D\",\"E\",\"F\",\"G\",\"H\",]\n",
    "\n",
    "    letra = 0\n",
    "\n",
    "    passo = 1\n",
    "\n",
    "    for i in range(1, colunas + 1):\n",
    "        \n",
    "        colunas_para_media = dataset.iloc[:, (i*3 -2) : (i*3+1)]  # Substitua 0:3 pelos índices das colunas desejadas\n",
    "\n",
    "        # Calcula a média das três colunas para cada linha\n",
    "        media_colunas = colunas_para_media.mean(axis=1)\n",
    "\n",
    "        # Cria um novo DataFrame e adiciona a coluna com as médias\n",
    "        dataset_sem_triplicatas[f'Poço-{letras_colunas[letra]}({(passo*3-2)}-{(passo*3)})'] = media_colunas\n",
    "\n",
    "        if (i % 12) == 0:\n",
    "            letra += 1\n",
    "            \n",
    "        \n",
    "        if passo == 4:\n",
    "            passo = 1\n",
    "        else:\n",
    "            passo += 1\n",
    "\n",
    "    return dataset_sem_triplicatas\n",
    "    "
   ]
  },
  {
   "cell_type": "code",
   "execution_count": 5,
   "metadata": {},
   "outputs": [],
   "source": [
    "def criar_dici_triplicatas(dataset):\n",
    "    dici_triplicatas = {}\n",
    "    tempo_coluna = dataset.columns[0]  # A primeira coluna é \"Tempo(horas)\"\n",
    "    num_colunas_poço = 3  # Número de colunas por poço\n",
    "    letras_colunas = [\"A\", \"B\", \"C\", \"D\", \"E\", \"F\", \"G\", \"H\"]\n",
    "\n",
    "    for letra_idx, letra in enumerate(letras_colunas):\n",
    "        for i in range(0, 12, num_colunas_poço):\n",
    "            # Nome da chave no formato \"Poço_X(n-m)\"\n",
    "            chave = f\"Poço_{letra}({i+1}-{i+num_colunas_poço})\"\n",
    "\n",
    "            # Pegando a coluna \"Tempo(horas)\" e as 3 colunas consecutivas do poço\n",
    "            colunas_poço = [tempo_coluna] + [f\"Poço_{letra}({i+j+1})\" for j in range(num_colunas_poço)]\n",
    "            dici_triplicatas[chave] = dataset[colunas_poço]\n",
    "\n",
    "    return dici_triplicatas\n"
   ]
  },
  {
   "cell_type": "markdown",
   "metadata": {},
   "source": [
    "## Criando Dicionário de Datasets com base nas colunas:"
   ]
  },
  {
   "cell_type": "markdown",
   "metadata": {},
   "source": [
    "### Criando uma dicionário de datasets"
   ]
  },
  {
   "cell_type": "code",
   "execution_count": 6,
   "metadata": {},
   "outputs": [],
   "source": [
    "def construir_dici_poços(dataset):\n",
    "    \"\"\"Função que através de um dataset dado constrói um dicionario de datasets além disso modifica o nome da segunda coluna do dataset para \"y_experimental\".\n",
    "\n",
    "    Args:\n",
    "        dataset: Um dataset qualquer\n",
    "\n",
    "    Returns:\n",
    "        dici: Dicionário no qual cada chave é um poço e os valores são um dataset contenco as colunas \"Tempo(horas)\" e \"y_esperimental\"\n",
    "    \"\"\"\n",
    "    primeira_coluna = dataset.columns[0]\n",
    "\n",
    "    # Criando o dicionário com as colunas (exceto a primeira) e renomeando a segunda coluna para \"y_ori\"\n",
    "    return {\n",
    "        col: dataset[[primeira_coluna, col]].rename(columns={col: \"y_experimental\"}) \n",
    "        for col in dataset.columns[1:]\n",
    "    }"
   ]
  },
  {
   "cell_type": "markdown",
   "metadata": {},
   "source": [
    "### Criando um dicionário de dicionario de datasets"
   ]
  },
  {
   "cell_type": "code",
   "execution_count": 7,
   "metadata": {},
   "outputs": [],
   "source": [
    "def construir_dici_placas(arquivos):\n",
    "    dici_placas = {}\n",
    "    for i, dic in enumerate(arquivos, start=1):\n",
    "        # Cria a chave \"Placa_{i}\" e atribui o dicionário de poços\n",
    "        dici_placas[f\"Placa_{i}\"] = dic\n",
    "    \n",
    "    return dici_placas"
   ]
  },
  {
   "cell_type": "code",
   "execution_count": 8,
   "metadata": {},
   "outputs": [],
   "source": [
    "def arquivos_to_placas(dados_brutos):\n",
    "    \"\"\"\n",
    "    Constrói um dicionário de placas a partir de uma lista de dicionários de poços.\n",
    "\n",
    "    :param arquivos: Lista de dicionários de poços\n",
    "    :return: Dicionário de placas organizado\n",
    "    \"\"\"\n",
    "    \n",
    "    lista_df_destriplicados = []\n",
    "\n",
    "    for dados in dados_brutos: \n",
    "        df_reduzido = df_triplicatas(dados)\n",
    "        lista_df_destriplicados.append(df_reduzido)\n",
    "\n",
    "    lista_dici_poços = []\n",
    "\n",
    "    for df in lista_df_destriplicados:\n",
    "        dici_poços = construir_dici_poços(df)\n",
    "        lista_dici_poços.append(dici_poços)\n",
    "    \n",
    "\n",
    "    dici_placas = construir_dici_placas(lista_dici_poços)\n",
    "\n",
    "    return dici_placas\n"
   ]
  },
  {
   "cell_type": "code",
   "execution_count": 9,
   "metadata": {},
   "outputs": [],
   "source": [
    "dados_brutos = [dataset_exemplo]"
   ]
  },
  {
   "cell_type": "code",
   "execution_count": 10,
   "metadata": {},
   "outputs": [],
   "source": [
    "df_com, df_sem = fn.arquivos_to_placas(dados_brutos)"
   ]
  },
  {
   "cell_type": "code",
   "execution_count": 11,
   "metadata": {},
   "outputs": [],
   "source": [
    "teste = pd.DataFrame(df_sem)"
   ]
  },
  {
   "cell_type": "code",
   "execution_count": 12,
   "metadata": {},
   "outputs": [
    {
     "data": {
      "text/html": [
       "<div>\n",
       "<style scoped>\n",
       "    .dataframe tbody tr th:only-of-type {\n",
       "        vertical-align: middle;\n",
       "    }\n",
       "\n",
       "    .dataframe tbody tr th {\n",
       "        vertical-align: top;\n",
       "    }\n",
       "\n",
       "    .dataframe thead th {\n",
       "        text-align: right;\n",
       "    }\n",
       "</style>\n",
       "<table border=\"1\" class=\"dataframe\">\n",
       "  <thead>\n",
       "    <tr style=\"text-align: right;\">\n",
       "      <th></th>\n",
       "      <th>Tempo(horas)</th>\n",
       "      <th>y_experimental</th>\n",
       "    </tr>\n",
       "  </thead>\n",
       "  <tbody>\n",
       "    <tr>\n",
       "      <th>0</th>\n",
       "      <td>0.000000</td>\n",
       "      <td>0.258000</td>\n",
       "    </tr>\n",
       "    <tr>\n",
       "      <th>1</th>\n",
       "      <td>0.500000</td>\n",
       "      <td>0.307333</td>\n",
       "    </tr>\n",
       "    <tr>\n",
       "      <th>2</th>\n",
       "      <td>1.000000</td>\n",
       "      <td>0.334333</td>\n",
       "    </tr>\n",
       "    <tr>\n",
       "      <th>3</th>\n",
       "      <td>1.500000</td>\n",
       "      <td>0.363333</td>\n",
       "    </tr>\n",
       "    <tr>\n",
       "      <th>4</th>\n",
       "      <td>2.000000</td>\n",
       "      <td>0.394333</td>\n",
       "    </tr>\n",
       "    <tr>\n",
       "      <th>...</th>\n",
       "      <td>...</td>\n",
       "      <td>...</td>\n",
       "    </tr>\n",
       "    <tr>\n",
       "      <th>235</th>\n",
       "      <td>117.504167</td>\n",
       "      <td>8.317333</td>\n",
       "    </tr>\n",
       "    <tr>\n",
       "      <th>236</th>\n",
       "      <td>118.004167</td>\n",
       "      <td>8.328000</td>\n",
       "    </tr>\n",
       "    <tr>\n",
       "      <th>237</th>\n",
       "      <td>118.504167</td>\n",
       "      <td>8.330333</td>\n",
       "    </tr>\n",
       "    <tr>\n",
       "      <th>238</th>\n",
       "      <td>119.004167</td>\n",
       "      <td>8.363333</td>\n",
       "    </tr>\n",
       "    <tr>\n",
       "      <th>239</th>\n",
       "      <td>119.504167</td>\n",
       "      <td>8.328000</td>\n",
       "    </tr>\n",
       "  </tbody>\n",
       "</table>\n",
       "<p>240 rows × 2 columns</p>\n",
       "</div>"
      ],
      "text/plain": [
       "     Tempo(horas)  y_experimental\n",
       "0        0.000000        0.258000\n",
       "1        0.500000        0.307333\n",
       "2        1.000000        0.334333\n",
       "3        1.500000        0.363333\n",
       "4        2.000000        0.394333\n",
       "..            ...             ...\n",
       "235    117.504167        8.317333\n",
       "236    118.004167        8.328000\n",
       "237    118.504167        8.330333\n",
       "238    119.004167        8.363333\n",
       "239    119.504167        8.328000\n",
       "\n",
       "[240 rows x 2 columns]"
      ]
     },
     "execution_count": 12,
     "metadata": {},
     "output_type": "execute_result"
    }
   ],
   "source": [
    "df_sem[\"Placa_1\"][\"Poço_A(1-3)\"]"
   ]
  },
  {
   "cell_type": "markdown",
   "metadata": {},
   "source": [
    "## Modelagem Matemática"
   ]
  },
  {
   "cell_type": "markdown",
   "metadata": {},
   "source": [
    "### Definindo Variáveis:"
   ]
  },
  {
   "cell_type": "code",
   "execution_count": 13,
   "metadata": {},
   "outputs": [],
   "source": [
    "placa = \"Placa_1\"\n",
    "poços = \"Poço_A(1-3)\""
   ]
  },
  {
   "cell_type": "code",
   "execution_count": 14,
   "metadata": {},
   "outputs": [
    {
     "data": {
      "text/html": [
       "<div>\n",
       "<style scoped>\n",
       "    .dataframe tbody tr th:only-of-type {\n",
       "        vertical-align: middle;\n",
       "    }\n",
       "\n",
       "    .dataframe tbody tr th {\n",
       "        vertical-align: top;\n",
       "    }\n",
       "\n",
       "    .dataframe thead th {\n",
       "        text-align: right;\n",
       "    }\n",
       "</style>\n",
       "<table border=\"1\" class=\"dataframe\">\n",
       "  <thead>\n",
       "    <tr style=\"text-align: right;\">\n",
       "      <th></th>\n",
       "      <th>Tempo(horas)</th>\n",
       "      <th>y_experimental</th>\n",
       "    </tr>\n",
       "  </thead>\n",
       "  <tbody>\n",
       "    <tr>\n",
       "      <th>0</th>\n",
       "      <td>0.000000</td>\n",
       "      <td>0.258000</td>\n",
       "    </tr>\n",
       "    <tr>\n",
       "      <th>1</th>\n",
       "      <td>0.500000</td>\n",
       "      <td>0.307333</td>\n",
       "    </tr>\n",
       "    <tr>\n",
       "      <th>2</th>\n",
       "      <td>1.000000</td>\n",
       "      <td>0.334333</td>\n",
       "    </tr>\n",
       "    <tr>\n",
       "      <th>3</th>\n",
       "      <td>1.500000</td>\n",
       "      <td>0.363333</td>\n",
       "    </tr>\n",
       "    <tr>\n",
       "      <th>4</th>\n",
       "      <td>2.000000</td>\n",
       "      <td>0.394333</td>\n",
       "    </tr>\n",
       "    <tr>\n",
       "      <th>...</th>\n",
       "      <td>...</td>\n",
       "      <td>...</td>\n",
       "    </tr>\n",
       "    <tr>\n",
       "      <th>235</th>\n",
       "      <td>117.504167</td>\n",
       "      <td>8.317333</td>\n",
       "    </tr>\n",
       "    <tr>\n",
       "      <th>236</th>\n",
       "      <td>118.004167</td>\n",
       "      <td>8.328000</td>\n",
       "    </tr>\n",
       "    <tr>\n",
       "      <th>237</th>\n",
       "      <td>118.504167</td>\n",
       "      <td>8.330333</td>\n",
       "    </tr>\n",
       "    <tr>\n",
       "      <th>238</th>\n",
       "      <td>119.004167</td>\n",
       "      <td>8.363333</td>\n",
       "    </tr>\n",
       "    <tr>\n",
       "      <th>239</th>\n",
       "      <td>119.504167</td>\n",
       "      <td>8.328000</td>\n",
       "    </tr>\n",
       "  </tbody>\n",
       "</table>\n",
       "<p>240 rows × 2 columns</p>\n",
       "</div>"
      ],
      "text/plain": [
       "     Tempo(horas)  y_experimental\n",
       "0        0.000000        0.258000\n",
       "1        0.500000        0.307333\n",
       "2        1.000000        0.334333\n",
       "3        1.500000        0.363333\n",
       "4        2.000000        0.394333\n",
       "..            ...             ...\n",
       "235    117.504167        8.317333\n",
       "236    118.004167        8.328000\n",
       "237    118.504167        8.330333\n",
       "238    119.004167        8.363333\n",
       "239    119.504167        8.328000\n",
       "\n",
       "[240 rows x 2 columns]"
      ]
     },
     "execution_count": 14,
     "metadata": {},
     "output_type": "execute_result"
    }
   ],
   "source": [
    "df_sem[\"Placa_1\"][\"Poço_A(1-3)\"]"
   ]
  },
  {
   "cell_type": "code",
   "execution_count": 15,
   "metadata": {},
   "outputs": [],
   "source": [
    "x = df_sem[placa][poços][\"Tempo(horas)\"]\n",
    "y = df_sem[placa][poços][\"y_experimental\"]\n",
    "\n",
    "#Método Antigo\n",
    "#y = dicionario_poços[dados][dicionario_poços[dados].columns[1]] \n",
    "#x = dicionario_poços[dados][dicionario_poços[dados].columns[0]] "
   ]
  },
  {
   "cell_type": "markdown",
   "metadata": {},
   "source": [
    "### Definindo Modelo de Gompertz:"
   ]
  },
  {
   "cell_type": "code",
   "execution_count": 16,
   "metadata": {},
   "outputs": [],
   "source": [
    "def gompertz(t, Nmax, k, tlag):\n",
    "    '''\n",
    "    Calcula a função de Gompertz para modelar o crescimento microbiano.\n",
    "\n",
    "    Args:\n",
    "    t (float): Tempo em unidades de horas.\n",
    "    Nmax (float): Valor assintótico máximo da população de micro-organismos. Representa a capacidade máxima de crescimento da cultura.\n",
    "    k (float): Taxa de crescimento específica. Determina a rapidez com que a população de micro-organismos cresce após o período de lag.\n",
    "    tlag (float): Tempo de lag ou atraso antes do início do crescimento exponencial. Representa o tempo necessário para a adaptação inicial da população.\n",
    "\n",
    "    Returns:\n",
    "    float: Resultado da função de Gompertz, o valor estimado da população de micro-organismos para cada instante de tempo.\n",
    "    '''\n",
    "    return Nmax * np.exp(-np.exp(-k * (t - tlag)))"
   ]
  },
  {
   "cell_type": "code",
   "execution_count": 17,
   "metadata": {},
   "outputs": [
    {
     "name": "stdout",
     "output_type": "stream",
     "text": [
      "[[Model]]\n",
      "    Model(gompertz)\n",
      "[[Fit Statistics]]\n",
      "    # fitting method   = leastsq\n",
      "    # function evals   = 51\n",
      "    # data points      = 240\n",
      "    # variables        = 3\n",
      "    chi-square         = 3.79806044\n",
      "    reduced chi-square = 0.01602557\n",
      "    Akaike info crit   = -989.075615\n",
      "    Bayesian info crit = -978.633698\n",
      "    R-squared          = 0.99752305\n",
      "[[Variables]]\n",
      "    Nmax:  8.22853856 +/- 0.01479216 (0.18%) (init = 10)\n",
      "    k:     0.05910521 +/- 5.1406e-04 (0.87%) (init = 0.5)\n",
      "    tlag:  20.2173750 +/- 0.10158856 (0.50%) (init = 1)\n",
      "[[Correlations]] (unreported correlations are < 0.100)\n",
      "    C(Nmax, k)    = -0.6344\n",
      "    C(Nmax, tlag) = +0.3378\n"
     ]
    }
   ],
   "source": [
    "modelo_gompertz = Model(fn.gompertz)\n",
    "\n",
    "params = modelo_gompertz.make_params(Nmax=10, k=0.5, tlag=1)\n",
    "\n",
    "resultado_fit = modelo_gompertz.fit(y, params, t=x)\n",
    "\n",
    "residuos = y - resultado_fit.best_fit\n",
    "\n",
    "# Calcula o desvio padrão dos resíduos\n",
    "desvio_padrao = np.std(residuos)\n",
    "\n",
    "print(resultado_fit.fit_report())"
   ]
  },
  {
   "cell_type": "code",
   "execution_count": 18,
   "metadata": {},
   "outputs": [
    {
     "data": {
      "image/png": "[encoded data removed]",
      "text/plain": [
       "<Figure size 640x480 with 1 Axes>"
      ]
     },
     "metadata": {},
     "output_type": "display_data"
    }
   ],
   "source": [
    "plt.plot(x, y, '.')\n",
    "plt.plot(x, resultado_fit.init_fit, '--', label='Palpite inicial')\n",
    "plt.plot(x, resultado_fit.best_fit, '-', color='black', label='Melhor ajuste encontrado')\n",
    "\n",
    "\n",
    "plt.fill_between(x, resultado_fit.best_fit - desvio_padrao, resultado_fit.best_fit + desvio_padrao,\n",
    "                    color='gray', alpha=0.3, label='Intervalo de 1 desvio padrão')\n",
    "plt.legend()\n",
    "plt.show()"
   ]
  },
  {
   "cell_type": "markdown",
   "metadata": {},
   "source": [
    "### Denifindo Modelo Linear:"
   ]
  },
  {
   "cell_type": "code",
   "execution_count": 19,
   "metadata": {},
   "outputs": [
    {
     "name": "stdout",
     "output_type": "stream",
     "text": [
      "[[Model]]\n",
      "    Model(linear)\n",
      "[[Fit Statistics]]\n",
      "    # fitting method   = leastsq\n",
      "    # function evals   = 7\n",
      "    # data points      = 11\n",
      "    # variables        = 2\n",
      "    chi-square         = 5.9304e-04\n",
      "    reduced chi-square = 6.5893e-05\n",
      "    Akaike info crit   = -104.109625\n",
      "    Bayesian info crit = -103.313834\n",
      "    R-squared          = 0.99880818\n",
      "[[Variables]]\n",
      "    slope:      0.13443445 +/- 0.00154794 (1.15%) (init = 1)\n",
      "    intercept: -1.29303351 +/- 0.01950341 (1.51%) (init = 0)\n",
      "[[Correlations]] (unreported correlations are < 0.100)\n",
      "    C(slope, intercept) = -0.9921\n"
     ]
    }
   ],
   "source": [
    "  # Definir a função linear\n",
    "def linear(t, slope, intercept):\n",
    "    \"\"\"Define uma função linear que será usada para o ajuste de dados.\"\"\"\n",
    "    return slope * t + intercept\n",
    "\n",
    "# Criar o modelo linear\n",
    "linear_model = Model(linear)\n",
    "\n",
    "log_column = np.log(y)\n",
    "\n",
    "inicio_intervalo = 20\n",
    "fim_intervalo = 30\n",
    "\n",
    "# Filtrar os dados para o intervalo especificado\n",
    "x_intervalo = x[inicio_intervalo:fim_intervalo+1]\n",
    "log_column_intervalo = log_column[inicio_intervalo:fim_intervalo+1]\n",
    "\n",
    "# Definir parâmetros iniciais\n",
    "params = linear_model.make_params(slope=1, intercept=0)\n",
    "\n",
    "# Fazer o ajuste apenas no intervalo selecionado\n",
    "result = linear_model.fit(log_column_intervalo, params, t=x_intervalo)\n",
    "\n",
    "# Calcular os resíduos\n",
    "residuos = log_column_intervalo - result.best_fit\n",
    "\n",
    "# Calcular o desvio padrão dos resíduos\n",
    "desvio_padrao = np.std(residuos)\n",
    "\n",
    "# Exibir o relatório do ajuste\n",
    "print(result.fit_report())"
   ]
  },
  {
   "cell_type": "code",
   "execution_count": 20,
   "metadata": {},
   "outputs": [
    {
     "data": {
      "image/png": "[encoded data removed]",
      "text/plain": [
       "<Figure size 800x600 with 1 Axes>"
      ]
     },
     "metadata": {},
     "output_type": "display_data"
    }
   ],
   "source": [
    "# Plotar o ajuste\n",
    "plt.figure(figsize=(8,6))\n",
    "plt.plot(x, log_column, 'o', label='Dados log(y)')\n",
    "plt.plot(x_intervalo, result.best_fit, 'o', label='Ajuste Linear (Intervalo)')\n",
    "plt.xlabel('Tempo')\n",
    "plt.ylabel('Log(y)')\n",
    "plt.legend()\n",
    "plt.show()"
   ]
  },
  {
   "cell_type": "markdown",
   "metadata": {},
   "source": [
    "### Criando Modelo Exponencial:"
   ]
  },
  {
   "cell_type": "code",
   "execution_count": 21,
   "metadata": {},
   "outputs": [],
   "source": [
    "def exponencial(t, Nmax, k):\n",
    "    \"\"\"Função que recebe um tempo(t) e apartir dele e da taxa de crescimento da determinada população ele calcula um valor a partir de uma equação exponencial.\n",
    "    \n",
    "    Args:\n",
    "        t (float): Tempo em unidades de horas.\n",
    "        Nmax (float): Amplitude do crescimento ou valor assintótico máximo atingido pela função.\n",
    "        k (float): Taxa de crescimento específica, controlando a rapidez com que o crescimento ocorre após o período de lag.\n",
    "\n",
    "    Returns:\n",
    "        float: O valor estimado de uma função Exponencial no tempo \"t\", representando o crescimento da população microbiana ao longo do tempo.\n",
    "    \"\"\"\n",
    "    \n",
    "    return Nmax * np.exp(k * t)"
   ]
  },
  {
   "cell_type": "code",
   "execution_count": 22,
   "metadata": {},
   "outputs": [],
   "source": [
    "# Criando o modelo exponencial com a função definida\n",
    "modelo_exponencial = Model(exponencial)\n",
    "\n",
    "# Parâmetros iniciais para o ajuste\n",
    "params = modelo_exponencial.make_params(Nmax=0, k=0.5)\n"
   ]
  },
  {
   "cell_type": "code",
   "execution_count": 23,
   "metadata": {},
   "outputs": [
    {
     "name": "stdout",
     "output_type": "stream",
     "text": [
      "[[Model]]\n",
      "    Model(exponencial)\n",
      "[[Fit Statistics]]\n",
      "    # fitting method   = leastsq\n",
      "    # function evals   = 56\n",
      "    # data points      = 27\n",
      "    # variables        = 2\n",
      "    chi-square         = 0.01044372\n",
      "    reduced chi-square = 4.1775e-04\n",
      "    Akaike info crit   = -208.154965\n",
      "    Bayesian info crit = -205.563291\n",
      "    R-squared          = 0.99840184\n",
      "[[Variables]]\n",
      "    Nmax:  0.28293451 +/- 0.00413556 (1.46%) (init = 0)\n",
      "    k:     0.13189542 +/- 0.00119644 (0.91%) (init = 0.5)\n",
      "[[Correlations]] (unreported correlations are < 0.100)\n",
      "    C(Nmax, k) = -0.9698\n"
     ]
    }
   ],
   "source": [
    "inicio_intervalo = 4\n",
    "fim_intervalo = 30\n",
    "\n",
    "# Filtrar os dados para o intervalo especificado\n",
    "x_intervalo = x[inicio_intervalo:fim_intervalo+1]\n",
    "y_intervalo = y[inicio_intervalo:fim_intervalo+1]\n",
    "\n",
    "# Executando o ajuste com os dados\n",
    "resultado_fit = modelo_exponencial.fit(y_intervalo, params, t=x_intervalo)\n",
    "\n",
    "# Exibindo o relatório de ajuste\n",
    "print(resultado_fit.fit_report())"
   ]
  },
  {
   "cell_type": "code",
   "execution_count": 24,
   "metadata": {},
   "outputs": [
    {
     "data": {
      "image/png": "[encoded data removed]",
      "text/plain": [
       "<Figure size 800x600 with 1 Axes>"
      ]
     },
     "metadata": {},
     "output_type": "display_data"
    }
   ],
   "source": [
    "\n",
    "# Plotar o ajuste\n",
    "plt.figure(figsize=(8,6))\n",
    "plt.plot(x, y, 'o', label='Dados log(y)')\n",
    "plt.plot(x_intervalo, resultado_fit.best_fit, 'o', label='Ajuste Linear (Intervalo)')\n",
    "plt.xlabel('Tempo')\n",
    "plt.ylabel('Log(y)')\n",
    "plt.legend()\n",
    "plt.show()"
   ]
  },
  {
   "cell_type": "markdown",
   "metadata": {},
   "source": [
    "### Modelo de Zwietering"
   ]
  },
  {
   "cell_type": "code",
   "execution_count": 25,
   "metadata": {},
   "outputs": [],
   "source": [
    "def zwietering(t, y_0, Nmax, k, tlag):\n",
    "    \"\"\"\n",
    "    Calcula a função modificada de Gompertz para modelar o crescimento microbiano.\n",
    "\n",
    "    A função de Gompertz é frequentemente usada para descrever o crescimento de populações biológicas, como o crescimento microbiano, com base em parâmetros que controlam a taxa de crescimento, o tempo de atraso (lag) e o valor máximo de crescimento.\n",
    "\n",
    "    Args:\n",
    "        t (float): Tempo em unidades de horas.\n",
    "        y_0 (float): Valor inicial da variável de resposta no tempo zero (t=0).\n",
    "        A (float): Amplitude do crescimento ou valor assintótico máximo atingido pela função.\n",
    "        k (float): Taxa de crescimento específica, controlando a rapidez com que o crescimento ocorre após o período de lag.\n",
    "        tlag (float): Tempo de lag ou atraso, representando o tempo necessário para a adaptação inicial antes do crescimento exponencial.\n",
    "\n",
    "    Returns:\n",
    "        float: O valor estimado da função de Gompertz no tempo `t`, representando o crescimento da população microbiana ao longo do tempo.\n",
    "    \"\"\"\n",
    "    return y_0 + ((Nmax - y_0)/(1 + np.exp(((4 * k)/Nmax) * (tlag - t) + 2)))"
   ]
  },
  {
   "cell_type": "code",
   "execution_count": 26,
   "metadata": {},
   "outputs": [
    {
     "name": "stdout",
     "output_type": "stream",
     "text": [
      "[[Model]]\n",
      "    Model(zwietering)\n",
      "[[Fit Statistics]]\n",
      "    # fitting method   = leastsq\n",
      "    # function evals   = 148\n",
      "    # data points      = 240\n",
      "    # variables        = 3\n",
      "    chi-square         = 16.3593940\n",
      "    reduced chi-square = 0.06902698\n",
      "    Akaike info crit   = -638.600792\n",
      "    Bayesian info crit = -628.158875\n",
      "    R-squared          = 0.98933102\n",
      "[[Variables]]\n",
      "    y_0:   0 (fixed)\n",
      "    Nmax:  8.08267440 +/- 0.02661435 (0.33%) (init = 0.1)\n",
      "    k:     0.17250326 +/- 0.00285695 (1.66%) (init = 0.1)\n",
      "    tlag:  3.68864190 +/- 0.43613268 (11.82%) (init = 0)\n",
      "[[Correlations]] (unreported correlations are < 0.100)\n",
      "    C(k, tlag)    = +0.8909\n",
      "    C(Nmax, k)    = -0.3183\n",
      "    C(Nmax, tlag) = -0.2059\n"
     ]
    }
   ],
   "source": [
    "\n",
    "modelo_zwietering = Model(zwietering)\n",
    "\n",
    "params = modelo_zwietering.make_params(Nmax=0.1, k=0.1, tlag=0, y_0 = 0)\n",
    "params['Nmax'].min = 0  # Limite mínimo para Nmax  \n",
    "params['k'].min = 0.01  # Limite mínimo para k\n",
    "params['tlag'].min = 0  # Limite mínimo para tlag\n",
    "params['y_0'].min = 0  # Limite mínimo para tlag\n",
    "params['y_0'].vary = False  # Fizando y_0\n",
    "\n",
    "\n",
    "\n",
    "resultado_fit = modelo_zwietering.fit(y, params, t=x)\n",
    "print(resultado_fit.fit_report())\n",
    "\n",
    "#desvio_padrao_nmax = resultado_fit.params[\"Nmax\"].stderr\n",
    "\n",
    "residuos = y - resultado_fit.best_fit\n",
    "\n",
    "# Calcula o desvio padrão dos resíduos\n",
    "desvio_padrao = np.std(residuos)"
   ]
  },
  {
   "cell_type": "code",
   "execution_count": 27,
   "metadata": {},
   "outputs": [
    {
     "data": {
      "image/png": "[encoded data removed]",
      "text/plain": [
       "<Figure size 640x480 with 1 Axes>"
      ]
     },
     "metadata": {},
     "output_type": "display_data"
    }
   ],
   "source": [
    "plt.plot(x, y, '.')\n",
    "plt.plot(x, resultado_fit.init_fit, '--', label='Palpite inicial')\n",
    "plt.plot(x, resultado_fit.best_fit, '-', color='black', label='Melhor ajuste encontrado')\n",
    "\n",
    "\n",
    "plt.fill_between(x, resultado_fit.best_fit - desvio_padrao, resultado_fit.best_fit + desvio_padrao,\n",
    "                    color='gray', alpha=0.3, label='Intervalo de 1 desvio padrão')\n",
    "plt.legend()\n",
    "plt.show()"
   ]
  },
  {
   "cell_type": "markdown",
   "metadata": {},
   "source": [
    "## Criando tabela de parametros iniciais:"
   ]
  },
  {
   "cell_type": "markdown",
   "metadata": {},
   "source": [
    "### Algumas variáveis:"
   ]
  },
  {
   "cell_type": "markdown",
   "metadata": {},
   "source": [
    "### Definindo função do Growth Score:"
   ]
  },
  {
   "cell_type": "code",
   "execution_count": 28,
   "metadata": {},
   "outputs": [],
   "source": [
    "def growth_score(k, Nmax, y_0 = 0):\n",
    "    \"\"\"\n",
    "    Calcula a pontuação de crescimento com base na taxa de crescimento específica (k) e nos valores assintóticos da população.\n",
    "\n",
    "    Args:\n",
    "    k (float): Taxa de crescimento específica. Representa a rapidez com que a população de micro-organismos cresce.\n",
    "    Nmax (float): Valor assintótico máximo da população de micro-organismos. Representa a capacidade máxima de crescimento.\n",
    "    y_0 (float): Valor inicial da população de micro-organismos.\n",
    "\n",
    "    Returns:\n",
    "    float: Pontuação de crescimento, calculada como a diferença entre o valor máximo e o valor inicial da população acrescida de 25% da taxa de crescimento.\n",
    "    \"\"\"\n",
    "    return (Nmax - y_0) + 0.25*k"
   ]
  },
  {
   "cell_type": "markdown",
   "metadata": {},
   "source": [
    "### Função que Cria Tabela:"
   ]
  },
  {
   "cell_type": "code",
   "execution_count": 29,
   "metadata": {},
   "outputs": [],
   "source": [
    "def gerar_tabela(dici_final, modelo_escolhido = \"Gompertz\", ini_log = 0, fim_log = 0):\n",
    "\n",
    "    if modelo_escolhido == \"Gompertz\":\n",
    "        \n",
    "        tabela = {\n",
    "                    \"Placa\": [],\n",
    "                    \"Poços\": [],\n",
    "                    \"μMax\": [],\n",
    "                    \"A\": [],\n",
    "                    \"Fase lag\": [],\n",
    "                    \"Growth Score\": [],\n",
    "\n",
    "                }\n",
    "        \n",
    "        for placa in dici_final:\n",
    "            for poço in dici_final[placa]:\n",
    "                \n",
    "                x = dici_final[placa][poços][\"Tempo(horas)\"]\n",
    "                y = dici_final[placa][poços][\"y_experimental\"]\n",
    "                \n",
    "                modelo_gompertz = Model(fn.gompertz)\n",
    "\n",
    "                params = modelo_gompertz.make_params(Nmax=10, k=0.5, tlag=1)\n",
    "                params['Nmax'].min = 0  # Limite mínimo para A\n",
    "                params['k'].min = 0.01  # Limite mínimo para μMax\n",
    "                params['tlag'].min = 0  # Limite mínimo para tlag\n",
    "\n",
    "                resultado_fit = modelo_gompertz.fit(y, params, t=x)\n",
    "\n",
    "                GS = growth_score(resultado_fit.params[\"k\"].value,resultado_fit.params[\"Nmax\"].value)\n",
    "\n",
    "                tabela[\"Placa\"].append(placa)\n",
    "                tabela[\"Poços\"].append(poço)\n",
    "                tabela['μMax'].append(resultado_fit.params[\"k\"].value)\n",
    "                tabela['A'].append(resultado_fit.params[\"Nmax\"].value)\n",
    "                tabela[\"Fase lag\"].append(resultado_fit.params[\"tlag\"].value)\n",
    "                tabela[\"Growth Score\"].append(GS)\n",
    "        \n",
    "        return tabela\n",
    "                \n",
    "\n",
    "\n",
    "\n",
    "    if modelo_escolhido == \"Zwietering\":\n",
    "\n",
    "        tabela = {\n",
    "                    \"Placa\": [],\n",
    "                    \"Poços\": [],\n",
    "                    \"Taxa Crescimento\": [],\n",
    "                    \"Nmax\": [],\n",
    "                    \"Tempo lag\": [],\n",
    "                    \"Growth Score\": [],\n",
    "                }\n",
    "        \n",
    "    if modelo_escolhido == \"Linear\":\n",
    "         \n",
    "         tabela = {\n",
    "                    \"Placa\": [],\n",
    "                    \"Poços\": [],\n",
    "                    \"Taxa Crescimento\": [],\n",
    "                    \"Nmax\": [],\n",
    "                    \"Tempo lag\": [],\n",
    "                    \"Growth Score\": [],\n",
    "                }\n",
    "\n",
    "    "
   ]
  },
  {
   "cell_type": "markdown",
   "metadata": {},
   "source": [
    "## Iniciando trabalhos com gráficos:"
   ]
  },
  {
   "cell_type": "markdown",
   "metadata": {},
   "source": [
    "### Função modela_selecionados:"
   ]
  },
  {
   "cell_type": "code",
   "execution_count": 30,
   "metadata": {},
   "outputs": [],
   "source": [
    "def modela_selecionados(df_final,df_selecinados, modelo, tlag = \"auto\"):\n",
    "    \n",
    "    df_grafico = pd.DataFrame()\n",
    "\n",
    "\n",
    "    primeira_placa = next(iter(df_final.values()))  # Obtém o primeiro item do dicionário \"dici\"\n",
    "    primeiro_poco = next(iter(primeira_placa.values()))  # Obtém o primeiro item do dicionário dentro da placa \n",
    "\n",
    "\n",
    "    # Acessando a primeira coluna do dataset (primeiro poço)\n",
    "    primeira_coluna = primeiro_poco.iloc[:, 0]  # Seleciona a primeira coluna usando iloc\n",
    "\n",
    "    df_grafico[\"Tempo(horas)\"] = primeira_coluna\n",
    "\n",
    "    if modelo == \"Gompertz\":\n",
    "\n",
    "        for i in range(len(df_selecinados[\"Placa\"])):\n",
    "            placa = df_selecinados[\"Placa\"][i]\n",
    "            poços = df_selecinados[\"Poços\"][i]\n",
    "\n",
    "            y = df_final[placa][poços][\"y_experimental\"]\n",
    "\n",
    "            df_grafico[poços] = y\n",
    "        \n",
    "\n",
    "        return df_grafico\n",
    "            "
   ]
  },
  {
   "cell_type": "code",
   "execution_count": 31,
   "metadata": {},
   "outputs": [
    {
     "name": "stdout",
     "output_type": "stream",
     "text": [
      "   coluna1  coluna2  y_gompertz\n",
      "0        1        4           7\n",
      "1        2        5           8\n",
      "2        3        6           9\n"
     ]
    }
   ],
   "source": [
    "dici = {\n",
    "    \"Poço-A(1-3)\": pd.DataFrame({\n",
    "        'coluna1': [1, 2, 3],\n",
    "        'coluna2': [4, 5, 6]\n",
    "    })\n",
    "}\n",
    "\n",
    "# Dados para a nova coluna y_gompertz\n",
    "y_gompertz = [7, 8, 9]\n",
    "\n",
    "# Adicionando a nova coluna\n",
    "dici[\"Poço-A(1-3)\"][\"y_gompertz\"] = y_gompertz\n",
    "\n",
    "# Verificando o resultado\n",
    "print(dici[\"Poço-A(1-3)\"])"
   ]
  },
  {
   "cell_type": "markdown",
   "metadata": {},
   "source": [
    "### Teste:"
   ]
  },
  {
   "cell_type": "code",
   "execution_count": 32,
   "metadata": {},
   "outputs": [
    {
     "name": "stdout",
     "output_type": "stream",
     "text": [
      "{'Placa_1': {'Poço-A(1-3)': {'Tempo(horas)': [0, 1, 2], 'y_esperimental': [0.5, 0.6, 0.7], 'y_previsto': [0.4, 0.5, 0.6]}}, 'Placa_2': {'Poço-D(4-6)': {'Tempo(horas)': [0, 1, 2], 'y_esperimental': [3.5, 3.6, 3.7], 'y_previsto': [3.4, 3.5, 3.6]}}}\n"
     ]
    }
   ],
   "source": [
    "def filtra_dataset(df, dici_selecionados):\n",
    "    \"\"\"\n",
    "    Filtra o dicionário original com base nas placas e poços selecionados.\n",
    "\n",
    "    Args:\n",
    "        df (dict): Dicionário contendo o dataset original.\n",
    "        dici_selecionados (dict): Dicionário com placas e poços selecionados.\n",
    "\n",
    "    Returns:\n",
    "        dict: Novo dicionário com os dados filtrados.\n",
    "    \"\"\"\n",
    "    # Inicializa o dicionário filtrado\n",
    "    df_filtrado = {}\n",
    "\n",
    "    # Itera sobre as placas selecionadas\n",
    "    for placa in dici_selecionados['Placa']:\n",
    "        if placa in df:  # Verifica se a placa está no dicionário original\n",
    "            df_filtrado[placa] = {}\n",
    "            # Itera sobre os poços selecionados\n",
    "            for poco in dici_selecionados['Poços']:\n",
    "                if poco in df[placa]:  # Verifica se o poço está na placa\n",
    "                    # Adiciona o poço e seus dados ao novo dicionário\n",
    "                    df_filtrado[placa][poco] = df[placa][poco]\n",
    "    \n",
    "    return df_filtrado\n",
    "\n",
    "# Exemplo de uso:\n",
    "df = {\n",
    "    'Placa_1': {\n",
    "        'Poço-A(1-3)': {'Tempo(horas)': [0, 1, 2], 'y_esperimental': [0.5, 0.6, 0.7], 'y_previsto': [0.4, 0.5, 0.6]},\n",
    "        'Poço-B(4-6)': {'Tempo(horas)': [0, 1, 2], 'y_esperimental': [1.5, 1.6, 1.7], 'y_previsto': [1.4, 1.5, 1.6]}\n",
    "    },\n",
    "    'Placa_2': {\n",
    "        'Poço-C(1-3)': {'Tempo(horas)': [0, 1, 2], 'y_esperimental': [2.5, 2.6, 2.7], 'y_previsto': [2.4, 2.5, 2.6]},\n",
    "        'Poço-D(4-6)': {'Tempo(horas)': [0, 1, 2], 'y_esperimental': [3.5, 3.6, 3.7], 'y_previsto': [3.4, 3.5, 3.6]}\n",
    "    }\n",
    "}\n",
    "\n",
    "dici_selecionados = {\n",
    "    'Placa': [\"Placa_1\", \"Placa_2\"],\n",
    "    'Poços': [\"Poço-A(1-3)\", \"Poço-D(4-6)\"]\n",
    "}\n",
    "\n",
    "df_filtrado = filtra_dataset(df, dici_selecionados)\n",
    "print(df_filtrado)"
   ]
  },
  {
   "cell_type": "markdown",
   "metadata": {},
   "source": [
    "### Gera os 3 gráficos:"
   ]
  },
  {
   "cell_type": "code",
   "execution_count": 33,
   "metadata": {},
   "outputs": [],
   "source": [
    "def gera_tres_gráficos(df_comtriplicatas, df_selecionados):\n",
    "\n",
    "    for i in range(len(df_selecionados[\"Placa\"])):\n",
    "        placa = df_selecionados[\"Placa\"][i]\n",
    "        poços = df_selecionados[\"Poços\"][i]\n",
    "\n",
    "        x = df_comtriplicatas[placa][poços][\"Tempo(horas)\"]\n",
    "\n",
    "        for coluna in df_comtriplicatas[placa][poços].columns[1:]:\n",
    "            # Seleciona todas as linhas da coluna atual, ignorando a primeira coluna\n",
    "            y = df_comtriplicatas[placa][poços][coluna]\n",
    "            print(y)\n"
   ]
  },
  {
   "cell_type": "code",
   "execution_count": 34,
   "metadata": {},
   "outputs": [],
   "source": [
    "df_comtriplicatas, teste = fn.arquivos_to_placas([dataset_exemplo])"
   ]
  },
  {
   "cell_type": "code",
   "execution_count": 35,
   "metadata": {},
   "outputs": [],
   "source": [
    "df_teste= {\n",
    "    \"Placa\": [\"Placa_1\",\"Placa_1\"],\n",
    "    \"Poços\": [\"Poço_A(1-3)\", \"Poço_B(4-6)\"]\n",
    "}"
   ]
  },
  {
   "cell_type": "code",
   "execution_count": 36,
   "metadata": {},
   "outputs": [
    {
     "name": "stdout",
     "output_type": "stream",
     "text": [
      "0      0.318\n",
      "1      0.376\n",
      "2      0.407\n",
      "3      0.443\n",
      "4      0.484\n",
      "       ...  \n",
      "235    8.612\n",
      "236    8.578\n",
      "237    8.576\n",
      "238    8.627\n",
      "239    8.623\n",
      "Name: Poço_A(1), Length: 240, dtype: float64\n",
      "0      0.212\n",
      "1      0.249\n",
      "2      0.269\n",
      "3      0.292\n",
      "4      0.315\n",
      "       ...  \n",
      "235    7.796\n",
      "236    7.799\n",
      "237    7.821\n",
      "238    7.811\n",
      "239    7.843\n",
      "Name: Poço_A(2), Length: 240, dtype: float64\n",
      "0      0.244\n",
      "1      0.297\n",
      "2      0.327\n",
      "3      0.355\n",
      "4      0.384\n",
      "       ...  \n",
      "235    8.544\n",
      "236    8.607\n",
      "237    8.594\n",
      "238    8.652\n",
      "239    8.518\n",
      "Name: Poço_A(3), Length: 240, dtype: float64\n",
      "0      0.203\n",
      "1      0.248\n",
      "2      0.266\n",
      "3      0.286\n",
      "4      0.312\n",
      "       ...  \n",
      "235    7.630\n",
      "236    7.615\n",
      "237    7.651\n",
      "238    7.667\n",
      "239    7.659\n",
      "Name: Poço_B(4), Length: 240, dtype: float64\n",
      "0      0.184\n",
      "1      0.229\n",
      "2      0.240\n",
      "3      0.263\n",
      "4      0.288\n",
      "       ...  \n",
      "235    8.411\n",
      "236    8.361\n",
      "237    8.378\n",
      "238    8.447\n",
      "239    8.377\n",
      "Name: Poço_B(5), Length: 240, dtype: float64\n",
      "0      0.180\n",
      "1      0.221\n",
      "2      0.238\n",
      "3      0.259\n",
      "4      0.286\n",
      "       ...  \n",
      "235    7.532\n",
      "236    7.506\n",
      "237    7.503\n",
      "238    7.586\n",
      "239    7.500\n",
      "Name: Poço_B(6), Length: 240, dtype: float64\n"
     ]
    }
   ],
   "source": [
    "gera_tres_gráficos(df_comtriplicatas, df_teste)"
   ]
  },
  {
   "cell_type": "code",
   "execution_count": null,
   "metadata": {},
   "outputs": [],
   "source": []
  },
  {
   "cell_type": "markdown",
   "metadata": {},
   "source": [
    "## Plotando mais de um gráfico por vez"
   ]
  },
  {
   "cell_type": "code",
   "execution_count": 37,
   "metadata": {},
   "outputs": [],
   "source": [
    "def modelo_escolhido(modelo,tabela, i):\n",
    "\n",
    "    # Função que define o modelo de tabela caso a tabela estaja vazia:\n",
    "    def gerar_tabela(modelo):\n",
    "        if modelo == \"Linear\":\n",
    "            tabela = {\n",
    "                'Poços': [],\n",
    "                \"STD_da_Curva\": [],\n",
    "                \"Slope\": [],\n",
    "                'Intercept': []\n",
    "            }\n",
    "            return tabela\n",
    "\n",
    "        if modelo == \"Gompertz\":\n",
    "            tabela = {\n",
    "                'Poços': [],\n",
    "                \"STD_da_Curva\": [],\n",
    "                'Nmax': [],\n",
    "                'K': [],\n",
    "                'T-lag': []\n",
    "            }\n",
    "            return tabela\n",
    "\n",
    "        if modelo == \"Exponencial\":\n",
    "            tabela = {\n",
    "                'Poços': [],\n",
    "                \"STD\": [],\n",
    "                \"Slope\": [],\n",
    "                'Intercept': []\n",
    "            }\n",
    "            return tabela\n",
    "\n",
    "\n",
    "\n",
    "    if not bool(tabela): # Se a tabela estiver vazía.\n",
    "        tabela = gerar_tabela(modelo) # Gera uma tabela utilizando o modelo escolhido\n",
    "\n",
    "    # Adiciona os parametros otimizados para cada amostra no dicionario definido anteriormente. \n",
    "    tabela['Poços'].append(i)\n",
    "    tabela['STD_da_Curva'].append(desvio_padrao)\n",
    "    tabela['Nmax'].append(resultado_fit.params[\"Nmax\"].value)\n",
    "    tabela['K'].append(resultado_fit.params[\"k\"].value)\n",
    "    tabela[\"T-lag\"].append(resultado_fit.params[\"tlag\"].value)\n",
    "    \n",
    "    return tabela\n",
    "\n",
    "\n",
    "\n",
    "    tabela['Poços'].append(i)\n",
    "    tabela['STD_da_Curva'].append(desvio_padrao)\n",
    "    tabela['Slope'].append(resultado_fit.params[\"Nmax\"].value)\n",
    "    tabela['Intercep'].append(resultado_fit.params[\"I\"].value)\n",
    "\n",
    "\n",
    "\n",
    "    return tabela \n",
    "    \n",
    "    \n",
    "    "
   ]
  },
  {
   "cell_type": "markdown",
   "metadata": {},
   "source": [
    "### Função plote definitivo:"
   ]
  },
  {
   "cell_type": "code",
   "execution_count": 38,
   "metadata": {},
   "outputs": [],
   "source": [
    "def plot_dataset(df,titulo,legenda_x, legenda_y):\n",
    "    \"\"\"\n",
    "    Plota um gráfico onde a primeira coluna do DataFrame é o eixo X e as demais são Y sobrepostos.\n",
    "    :param df: DataFrame contendo os dados a serem plotados.\n",
    "    \"\"\"\n",
    "    # Criando a figura\n",
    "    fig, ax = plt.subplots()\n",
    "\n",
    "    # A primeira coluna é o eixo X\n",
    "    eixo_x = df.iloc[:, 0]\n",
    "    \n",
    "    # As demais colunas serão plotadas como diferentes séries no eixo Y\n",
    "    for i in range(1, df.shape[1]):\n",
    "        ax.plot(eixo_x, df.iloc[:, i], label=df.columns[i])\n",
    "    \n",
    "    # Configurações de exibição\n",
    "    ax.set_xlabel(legenda_x)  # Nome da primeira coluna como rótulo do eixo X\n",
    "    ax.set_ylabel(legenda_y)\n",
    "    ax.set_title(titulo)\n",
    "    ax.legend()\n",
    "    ax.grid(True)\n",
    "    \n",
    "    # Usando o st.pyplot() para exibir o gráfico no Streamlit\n",
    "    st.pyplot(fig)"
   ]
  },
  {
   "cell_type": "code",
   "execution_count": null,
   "metadata": {},
   "outputs": [],
   "source": []
  },
  {
   "cell_type": "code",
   "execution_count": null,
   "metadata": {},
   "outputs": [],
   "source": []
  },
  {
   "cell_type": "code",
   "execution_count": 39,
   "metadata": {},
   "outputs": [
    {
     "ename": "NameError",
     "evalue": "name 'gompertz_2' is not defined",
     "output_type": "error",
     "traceback": [
      "\u001b[0;31m---------------------------------------------------------------------------\u001b[0m",
      "\u001b[0;31mNameError\u001b[0m                                 Traceback (most recent call last)",
      "Cell \u001b[0;32mIn[39], line 3\u001b[0m\n\u001b[1;32m      1\u001b[0m amostras \u001b[38;5;241m=\u001b[39m [\u001b[38;5;124m\"\u001b[39m\u001b[38;5;124mPoço-A(4-6)\u001b[39m\u001b[38;5;124m\"\u001b[39m,\u001b[38;5;124m\"\u001b[39m\u001b[38;5;124mPoço-C(10-12)\u001b[39m\u001b[38;5;124m\"\u001b[39m,\u001b[38;5;124m\"\u001b[39m\u001b[38;5;124mPoço-A(1-3)\u001b[39m\u001b[38;5;124m\"\u001b[39m,\u001b[38;5;124m\"\u001b[39m\u001b[38;5;124mPoço-D(1-3)\u001b[39m\u001b[38;5;124m\"\u001b[39m,\u001b[38;5;124m\"\u001b[39m\u001b[38;5;124mPoço-B(10-12)\u001b[39m\u001b[38;5;124m\"\u001b[39m]  \u001b[38;5;66;03m# Definindo os poços que serão usados e comparados. \u001b[39;00m\n\u001b[0;32m----> 3\u001b[0m modelo_gompertz \u001b[38;5;241m=\u001b[39m Model(gompertz_2) \u001b[38;5;66;03m# Definindo qual modelo será usado. \u001b[39;00m\n\u001b[1;32m      5\u001b[0m params \u001b[38;5;241m=\u001b[39m modelo_gompertz\u001b[38;5;241m.\u001b[39mmake_params(Nmax\u001b[38;5;241m=\u001b[39m\u001b[38;5;241m10\u001b[39m, k\u001b[38;5;241m=\u001b[39m\u001b[38;5;241m0.5\u001b[39m, tlag\u001b[38;5;241m=\u001b[39m\u001b[38;5;241m1\u001b[39m) \u001b[38;5;66;03m#Definindo Parametros iniciais do modelo\u001b[39;00m\n\u001b[1;32m      6\u001b[0m params[\u001b[38;5;124m'\u001b[39m\u001b[38;5;124mNmax\u001b[39m\u001b[38;5;124m'\u001b[39m]\u001b[38;5;241m.\u001b[39mmin \u001b[38;5;241m=\u001b[39m \u001b[38;5;241m0\u001b[39m  \u001b[38;5;66;03m# Limite mínimo para Nmax\u001b[39;00m\n",
      "\u001b[0;31mNameError\u001b[0m: name 'gompertz_2' is not defined"
     ]
    }
   ],
   "source": [
    "amostras = [\"Poço-A(4-6)\",\"Poço-C(10-12)\",\"Poço-A(1-3)\",\"Poço-D(1-3)\",\"Poço-B(10-12)\"]  # Definindo os poços que serão usados e comparados. \n",
    "\n",
    "modelo_gompertz = Model(gompertz_2) # Definindo qual modelo será usado. \n",
    "\n",
    "params = modelo_gompertz.make_params(Nmax=10, k=0.5, tlag=1) #Definindo Parametros iniciais do modelo\n",
    "params['Nmax'].min = 0  # Limite mínimo para Nmax\n",
    "params['k'].min = 0.01  # Limite mínimo para k\n",
    "params['tlag'].min = 0  # Limite mínimo para tlag\n",
    "\n",
    "\n",
    "#linear_model = Model(linear)\n",
    "\n",
    "# Definir parâmetros iniciais\n",
    "#params = linear_model.make_params(slope=1, intercept=0)\n",
    "\n",
    "\n",
    "\n",
    "# Definindo o dicinionário que vai receber parametros otimizados e que posteriormente irão para uma tabela.\n",
    "tabela = {\n",
    "    'Poços': [],\n",
    "    \"STD_da_Curva\": [],\n",
    "    'Nmax': [],\n",
    "    'K': [],\n",
    "    'T-lag': []\n",
    "}\n",
    "\n",
    "\n",
    "\n",
    "\n",
    "for i in amostras: #Itera cada uma das amostras selecionadas\n",
    "    \n",
    "    x = dici_final[placa][poços][dici_final[placa][poços].columns[0]]\n",
    "    y = dici_final[placa][poços][dici_final[placa][poços].columns[1]]\n",
    "\n",
    "    resultado_fit = modelo_gompertz.fit(y, params, t=x)\n",
    "\n",
    "    residuos = y - resultado_fit.best_fit\n",
    "\n",
    "    # Calcula o desvio padrão dos resíduos\n",
    "    desvio_padrao = np.std(residuos)\n",
    "\n",
    "\n",
    "    #print(resultado_fit.fit_report())\n",
    "\n",
    "    # Adiciona os parametros otimizados para cada amostra no dicionario definido anteriormente. \n",
    "    tabela['Poços'].append(i)\n",
    "    tabela['STD_da_Curva'].append(desvio_padrao)\n",
    "    tabela['Nmax'].append(resultado_fit.params[\"Nmax\"].value)\n",
    "    tabela['K'].append(resultado_fit.params[\"k\"].value)\n",
    "    tabela[\"T-lag\"].append(resultado_fit.params[\"tlag\"].value)\n",
    "\n",
    "\n",
    "\n",
    "\n",
    "    # Criar o gráfico de pontos\n",
    "    plt.plot(x, y, '.')\n",
    "\n",
    "    # Plotar a linha do melhor ajuste\n",
    "    plt.plot(x, resultado_fit.best_fit, '-', label=f\"Melhor ajuste encontrado para {i}\")\n",
    "\n",
    "\n",
    "    plt.fill_between(x, resultado_fit.best_fit - desvio_padrao, resultado_fit.best_fit + desvio_padrao,\n",
    "                    color='gray', alpha=0.3)\n",
    "\n",
    "    # Adicionar legenda\n",
    "    plt.legend()\n",
    "\n",
    "    \n",
    "\n",
    "#plt.figure(figsize=(10, 6))  # Aumenta o tamanho do gráfico (10 de largura e 6 de altura)\n",
    "\n",
    "# Adicionar títulos e legendas aos eixos\n",
    "plt.title(\"Gráfico de Crescimento Microbiano\")\n",
    "plt.xlabel(\"Tempo(horas)\")  # Substitua pelo nome desejado\n",
    "plt.ylabel(\"Green Value\")  # Substitua pelo nome desejado  \n",
    "\n",
    "\n",
    "plt.show()\n",
    "\n",
    "parametros = pd.DataFrame(tabela)\n",
    "print(parametros)\n"
   ]
  },
  {
   "cell_type": "code",
   "execution_count": null,
   "metadata": {},
   "outputs": [
    {
     "data": {
      "text/plain": [
       "0.01540595917981946"
      ]
     },
     "execution_count": 37,
     "metadata": {},
     "output_type": "execute_result"
    }
   ],
   "source": [
    "resultado_fit.params['Nmax'].stderr\n"
   ]
  },
  {
   "cell_type": "code",
   "execution_count": null,
   "metadata": {},
   "outputs": [],
   "source": []
  },
  {
   "cell_type": "code",
   "execution_count": null,
   "metadata": {},
   "outputs": [],
   "source": [
    "def teste():\n",
    "\n",
    "    return 10, 15"
   ]
  },
  {
   "cell_type": "code",
   "execution_count": null,
   "metadata": {},
   "outputs": [],
   "source": [
    "x = teste()[1]"
   ]
  },
  {
   "cell_type": "markdown",
   "metadata": {},
   "source": [
    "# Referencias:"
   ]
  },
  {
   "cell_type": "markdown",
   "metadata": {},
   "source": [
    "[1] https://en.wikipedia.org/wiki/Gompertz_function  \n",
    "[2] Notebooks sobre modelagem de dados disponibilizados pelos professores Daniel Roberto Cassar e James Moraes de Almeida "
   ]
  }
 ],
 "metadata": {
  "kernelspec": {
   "display_name": "base",
   "language": "python",
   "name": "python3"
  },
  "language_info": {
   "codemirror_mode": {
    "name": "ipython",
    "version": 3
   },
   "file_extension": ".py",
   "mimetype": "text/x-python",
   "name": "python",
   "nbconvert_exporter": "python",
   "pygments_lexer": "ipython3",
   "version": "3.12.2"
  }
 },
 "nbformat": 4,
 "nbformat_minor": 2
}
