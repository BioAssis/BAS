{
 "cells": [
  {
   "cell_type": "markdown",
   "metadata": {},
   "source": [
    "# BIS(BIOPROCESS ASSISTANT SOFTWARE)"
   ]
  },
  {
   "cell_type": "markdown",
   "metadata": {},
   "source": [
    "## BIBLIOTECAS:"
   ]
  },
  {
   "cell_type": "code",
   "execution_count": 83,
   "metadata": {},
   "outputs": [],
   "source": [
    "import pandas as pd\n",
    "import numpy as np\n",
    "from lmfit import Model\n",
    "import matplotlib.pyplot as plt\n",
    "import pprint\n",
    "import funcoes as fn"
   ]
  },
  {
   "cell_type": "markdown",
   "metadata": {},
   "source": [
    "## IMPORTANTO E TRABALHANDO COM OS DADOS:"
   ]
  },
  {
   "cell_type": "markdown",
   "metadata": {},
   "source": [
    "### Importando arquivos de exemplo:"
   ]
  },
  {
   "cell_type": "code",
   "execution_count": 43,
   "metadata": {},
   "outputs": [],
   "source": [
    "# Defina o caminho para o arquivo .xlsx\n",
    "caminho_arquivo = '/home/ABTLUS/daniel23020/Documentos/ILUM/4° Semestre/IP/BAS/dados_exemplo/GP_example_Ilum.xlsx'\n",
    "\n",
    "dataset_exemplo = pd.read_excel(caminho_arquivo, header=None)"
   ]
  },
  {
   "cell_type": "code",
   "execution_count": 44,
   "metadata": {},
   "outputs": [
    {
     "data": {
      "text/html": [
       "<div>\n",
       "<style scoped>\n",
       "    .dataframe tbody tr th:only-of-type {\n",
       "        vertical-align: middle;\n",
       "    }\n",
       "\n",
       "    .dataframe tbody tr th {\n",
       "        vertical-align: top;\n",
       "    }\n",
       "\n",
       "    .dataframe thead th {\n",
       "        text-align: right;\n",
       "    }\n",
       "</style>\n",
       "<table border=\"1\" class=\"dataframe\">\n",
       "  <thead>\n",
       "    <tr style=\"text-align: right;\">\n",
       "      <th></th>\n",
       "      <th>0</th>\n",
       "      <th>1</th>\n",
       "      <th>2</th>\n",
       "      <th>3</th>\n",
       "      <th>4</th>\n",
       "      <th>5</th>\n",
       "      <th>6</th>\n",
       "      <th>7</th>\n",
       "      <th>8</th>\n",
       "      <th>9</th>\n",
       "      <th>...</th>\n",
       "      <th>87</th>\n",
       "      <th>88</th>\n",
       "      <th>89</th>\n",
       "      <th>90</th>\n",
       "      <th>91</th>\n",
       "      <th>92</th>\n",
       "      <th>93</th>\n",
       "      <th>94</th>\n",
       "      <th>95</th>\n",
       "      <th>96</th>\n",
       "    </tr>\n",
       "  </thead>\n",
       "  <tbody>\n",
       "    <tr>\n",
       "      <th>0</th>\n",
       "      <td>0.0</td>\n",
       "      <td>0.318</td>\n",
       "      <td>0.212</td>\n",
       "      <td>0.244</td>\n",
       "      <td>0.198</td>\n",
       "      <td>0.203</td>\n",
       "      <td>0.224</td>\n",
       "      <td>0.192</td>\n",
       "      <td>0.166</td>\n",
       "      <td>0.137</td>\n",
       "      <td>...</td>\n",
       "      <td>0.228</td>\n",
       "      <td>0.189</td>\n",
       "      <td>0.217</td>\n",
       "      <td>0.178</td>\n",
       "      <td>0.138</td>\n",
       "      <td>0.116</td>\n",
       "      <td>0.082</td>\n",
       "      <td>0.051</td>\n",
       "      <td>0.051</td>\n",
       "      <td>0.079</td>\n",
       "    </tr>\n",
       "    <tr>\n",
       "      <th>1</th>\n",
       "      <td>30.0</td>\n",
       "      <td>0.376</td>\n",
       "      <td>0.249</td>\n",
       "      <td>0.297</td>\n",
       "      <td>0.243</td>\n",
       "      <td>0.243</td>\n",
       "      <td>0.271</td>\n",
       "      <td>0.240</td>\n",
       "      <td>0.201</td>\n",
       "      <td>0.172</td>\n",
       "      <td>...</td>\n",
       "      <td>0.273</td>\n",
       "      <td>0.228</td>\n",
       "      <td>0.257</td>\n",
       "      <td>0.205</td>\n",
       "      <td>0.150</td>\n",
       "      <td>0.124</td>\n",
       "      <td>0.083</td>\n",
       "      <td>0.047</td>\n",
       "      <td>0.047</td>\n",
       "      <td>0.073</td>\n",
       "    </tr>\n",
       "    <tr>\n",
       "      <th>2</th>\n",
       "      <td>60.0</td>\n",
       "      <td>0.407</td>\n",
       "      <td>0.269</td>\n",
       "      <td>0.327</td>\n",
       "      <td>0.263</td>\n",
       "      <td>0.265</td>\n",
       "      <td>0.287</td>\n",
       "      <td>0.257</td>\n",
       "      <td>0.219</td>\n",
       "      <td>0.184</td>\n",
       "      <td>...</td>\n",
       "      <td>0.295</td>\n",
       "      <td>0.247</td>\n",
       "      <td>0.275</td>\n",
       "      <td>0.228</td>\n",
       "      <td>0.160</td>\n",
       "      <td>0.131</td>\n",
       "      <td>0.089</td>\n",
       "      <td>0.046</td>\n",
       "      <td>0.048</td>\n",
       "      <td>0.071</td>\n",
       "    </tr>\n",
       "    <tr>\n",
       "      <th>3</th>\n",
       "      <td>90.0</td>\n",
       "      <td>0.443</td>\n",
       "      <td>0.292</td>\n",
       "      <td>0.355</td>\n",
       "      <td>0.281</td>\n",
       "      <td>0.284</td>\n",
       "      <td>0.309</td>\n",
       "      <td>0.274</td>\n",
       "      <td>0.227</td>\n",
       "      <td>0.194</td>\n",
       "      <td>...</td>\n",
       "      <td>0.320</td>\n",
       "      <td>0.270</td>\n",
       "      <td>0.302</td>\n",
       "      <td>0.247</td>\n",
       "      <td>0.167</td>\n",
       "      <td>0.137</td>\n",
       "      <td>0.094</td>\n",
       "      <td>0.047</td>\n",
       "      <td>0.047</td>\n",
       "      <td>0.075</td>\n",
       "    </tr>\n",
       "    <tr>\n",
       "      <th>4</th>\n",
       "      <td>120.0</td>\n",
       "      <td>0.484</td>\n",
       "      <td>0.315</td>\n",
       "      <td>0.384</td>\n",
       "      <td>0.312</td>\n",
       "      <td>0.314</td>\n",
       "      <td>0.333</td>\n",
       "      <td>0.295</td>\n",
       "      <td>0.247</td>\n",
       "      <td>0.213</td>\n",
       "      <td>...</td>\n",
       "      <td>0.340</td>\n",
       "      <td>0.298</td>\n",
       "      <td>0.322</td>\n",
       "      <td>0.264</td>\n",
       "      <td>0.171</td>\n",
       "      <td>0.138</td>\n",
       "      <td>0.096</td>\n",
       "      <td>0.047</td>\n",
       "      <td>0.048</td>\n",
       "      <td>0.075</td>\n",
       "    </tr>\n",
       "  </tbody>\n",
       "</table>\n",
       "<p>5 rows × 97 columns</p>\n",
       "</div>"
      ],
      "text/plain": [
       "      0      1      2      3      4      5      6      7      8      9   ...  \\\n",
       "0    0.0  0.318  0.212  0.244  0.198  0.203  0.224  0.192  0.166  0.137  ...   \n",
       "1   30.0  0.376  0.249  0.297  0.243  0.243  0.271  0.240  0.201  0.172  ...   \n",
       "2   60.0  0.407  0.269  0.327  0.263  0.265  0.287  0.257  0.219  0.184  ...   \n",
       "3   90.0  0.443  0.292  0.355  0.281  0.284  0.309  0.274  0.227  0.194  ...   \n",
       "4  120.0  0.484  0.315  0.384  0.312  0.314  0.333  0.295  0.247  0.213  ...   \n",
       "\n",
       "      87     88     89     90     91     92     93     94     95     96  \n",
       "0  0.228  0.189  0.217  0.178  0.138  0.116  0.082  0.051  0.051  0.079  \n",
       "1  0.273  0.228  0.257  0.205  0.150  0.124  0.083  0.047  0.047  0.073  \n",
       "2  0.295  0.247  0.275  0.228  0.160  0.131  0.089  0.046  0.048  0.071  \n",
       "3  0.320  0.270  0.302  0.247  0.167  0.137  0.094  0.047  0.047  0.075  \n",
       "4  0.340  0.298  0.322  0.264  0.171  0.138  0.096  0.047  0.048  0.075  \n",
       "\n",
       "[5 rows x 97 columns]"
      ]
     },
     "execution_count": 44,
     "metadata": {},
     "output_type": "execute_result"
    }
   ],
   "source": [
    "dataset_exemplo.head()"
   ]
  },
  {
   "cell_type": "markdown",
   "metadata": {},
   "source": [
    "### Função: Tira média das triplicatas na horizontal e adiciona um nome a cada coluna."
   ]
  },
  {
   "cell_type": "code",
   "execution_count": 45,
   "metadata": {},
   "outputs": [],
   "source": [
    "def df_triplicatas(dataset):\n",
    "\n",
    "    dataset_sem_triplicatas = pd.DataFrame(dataset.iloc[:,0]) # Reservando a primeira coluna do dataset, correspondente ao tempo. \n",
    "\n",
    "    dataset_sem_triplicatas.columns = ['Tempo(horas)'] + list(dataset_sem_triplicatas.columns[1:])  # Substitua 'Novo_Nome' pelo nome desejado\n",
    "\n",
    "    # Divide os valores da primeira coluna por 60\n",
    "    dataset_sem_triplicatas[\"Tempo(horas)\"] = dataset_sem_triplicatas[\"Tempo(horas)\"] / 60 #transformando o tempo de minutos para hora\n",
    "\n",
    "\n",
    "    colunas = int((len(dataset.columns) - 1) / 3)\n",
    "\n",
    "    letras_colunas = [\"A\",\"B\",\"C\",\"D\",\"E\",\"F\",\"G\",\"H\",]\n",
    "\n",
    "    letra = 0\n",
    "\n",
    "    passo = 1\n",
    "\n",
    "    for i in range(1, colunas + 1):\n",
    "        \n",
    "        colunas_para_media = dataset.iloc[:, (i*3 -2) : (i*3+1)]  # Substitua 0:3 pelos índices das colunas desejadas\n",
    "\n",
    "        # Calcula a média das três colunas para cada linha\n",
    "        media_colunas = colunas_para_media.mean(axis=1)\n",
    "\n",
    "\n",
    "        # Cria um novo DataFrame e adiciona a coluna com as médias\n",
    "        dataset_sem_triplicatas[f'Poço-{letras_colunas[letra]}({(passo*3-2)}-{(passo*3)})'] = media_colunas\n",
    "\n",
    "        if (i % 4) == 0:\n",
    "            letra += 1\n",
    "        \n",
    "        if passo == 4:\n",
    "            passo = 1\n",
    "        else:\n",
    "            passo += 1\n",
    "\n",
    "    return dataset_sem_triplicatas\n",
    "    "
   ]
  },
  {
   "cell_type": "markdown",
   "metadata": {},
   "source": [
    "## Criando Dicionário de Datasets com base nas colunas:"
   ]
  },
  {
   "cell_type": "markdown",
   "metadata": {},
   "source": [
    "### Criando uma dicionário de datasets"
   ]
  },
  {
   "cell_type": "code",
   "execution_count": 46,
   "metadata": {},
   "outputs": [],
   "source": [
    "teste = df_triplicatas(dataset_exemplo)"
   ]
  },
  {
   "cell_type": "code",
   "execution_count": 47,
   "metadata": {},
   "outputs": [],
   "source": [
    "def construir_dici_poços(dataset):\n",
    "\n",
    "    primeira_coluna = dataset.columns[0]\n",
    "\n",
    "    # Criando o dicionário com as colunas (exceto a primeira) e os respectivos datasets\n",
    "    return {col: dataset[[primeira_coluna, col]] for col in dataset.columns[1:]}\n",
    "    "
   ]
  },
  {
   "cell_type": "code",
   "execution_count": 48,
   "metadata": {},
   "outputs": [],
   "source": [
    "dicionario_poços = construir_dici_poços(teste)"
   ]
  },
  {
   "cell_type": "code",
   "execution_count": 49,
   "metadata": {},
   "outputs": [],
   "source": [
    "dados = input(\"Qual os poços que estavam suas amostras. (Ex: Poço-B(1-3))\")"
   ]
  },
  {
   "cell_type": "code",
   "execution_count": 50,
   "metadata": {},
   "outputs": [
    {
     "data": {
      "text/html": [
       "<div>\n",
       "<style scoped>\n",
       "    .dataframe tbody tr th:only-of-type {\n",
       "        vertical-align: middle;\n",
       "    }\n",
       "\n",
       "    .dataframe tbody tr th {\n",
       "        vertical-align: top;\n",
       "    }\n",
       "\n",
       "    .dataframe thead th {\n",
       "        text-align: right;\n",
       "    }\n",
       "</style>\n",
       "<table border=\"1\" class=\"dataframe\">\n",
       "  <thead>\n",
       "    <tr style=\"text-align: right;\">\n",
       "      <th></th>\n",
       "      <th>Tempo(horas)</th>\n",
       "      <th>Poço-B(1-3)</th>\n",
       "    </tr>\n",
       "  </thead>\n",
       "  <tbody>\n",
       "    <tr>\n",
       "      <th>0</th>\n",
       "      <td>0.000000</td>\n",
       "      <td>0.207333</td>\n",
       "    </tr>\n",
       "    <tr>\n",
       "      <th>1</th>\n",
       "      <td>0.500000</td>\n",
       "      <td>0.260667</td>\n",
       "    </tr>\n",
       "    <tr>\n",
       "      <th>2</th>\n",
       "      <td>1.000000</td>\n",
       "      <td>0.281000</td>\n",
       "    </tr>\n",
       "    <tr>\n",
       "      <th>3</th>\n",
       "      <td>1.500000</td>\n",
       "      <td>0.304333</td>\n",
       "    </tr>\n",
       "    <tr>\n",
       "      <th>4</th>\n",
       "      <td>2.000000</td>\n",
       "      <td>0.331667</td>\n",
       "    </tr>\n",
       "    <tr>\n",
       "      <th>...</th>\n",
       "      <td>...</td>\n",
       "      <td>...</td>\n",
       "    </tr>\n",
       "    <tr>\n",
       "      <th>235</th>\n",
       "      <td>117.504167</td>\n",
       "      <td>8.433667</td>\n",
       "    </tr>\n",
       "    <tr>\n",
       "      <th>236</th>\n",
       "      <td>118.004167</td>\n",
       "      <td>8.435333</td>\n",
       "    </tr>\n",
       "    <tr>\n",
       "      <th>237</th>\n",
       "      <td>118.504167</td>\n",
       "      <td>8.448000</td>\n",
       "    </tr>\n",
       "    <tr>\n",
       "      <th>238</th>\n",
       "      <td>119.004167</td>\n",
       "      <td>8.485333</td>\n",
       "    </tr>\n",
       "    <tr>\n",
       "      <th>239</th>\n",
       "      <td>119.504167</td>\n",
       "      <td>8.427000</td>\n",
       "    </tr>\n",
       "  </tbody>\n",
       "</table>\n",
       "<p>240 rows × 2 columns</p>\n",
       "</div>"
      ],
      "text/plain": [
       "     Tempo(horas)  Poço-B(1-3)\n",
       "0        0.000000     0.207333\n",
       "1        0.500000     0.260667\n",
       "2        1.000000     0.281000\n",
       "3        1.500000     0.304333\n",
       "4        2.000000     0.331667\n",
       "..            ...          ...\n",
       "235    117.504167     8.433667\n",
       "236    118.004167     8.435333\n",
       "237    118.504167     8.448000\n",
       "238    119.004167     8.485333\n",
       "239    119.504167     8.427000\n",
       "\n",
       "[240 rows x 2 columns]"
      ]
     },
     "execution_count": 50,
     "metadata": {},
     "output_type": "execute_result"
    }
   ],
   "source": [
    "dicionario_poços[dados]"
   ]
  },
  {
   "cell_type": "code",
   "execution_count": 51,
   "metadata": {},
   "outputs": [
    {
     "data": {
      "text/plain": [
       "0      0.207333\n",
       "1      0.260667\n",
       "2      0.281000\n",
       "3      0.304333\n",
       "4      0.331667\n",
       "         ...   \n",
       "235    8.433667\n",
       "236    8.435333\n",
       "237    8.448000\n",
       "238    8.485333\n",
       "239    8.427000\n",
       "Name: Poço-B(1-3), Length: 240, dtype: float64"
      ]
     },
     "execution_count": 51,
     "metadata": {},
     "output_type": "execute_result"
    }
   ],
   "source": [
    "dicionario_poços[dados][dicionario_poços[dados].columns[1]]  # Pegando somente o valor da segunda coluna...."
   ]
  },
  {
   "cell_type": "markdown",
   "metadata": {},
   "source": [
    "### Criando um dicionário de dicionario de datasets"
   ]
  },
  {
   "cell_type": "code",
   "execution_count": 52,
   "metadata": {},
   "outputs": [],
   "source": [
    "def construir_dici_placas(arquivos):\n",
    "    dici_placas = {}\n",
    "    for i, dic in enumerate(arquivos, start=1):\n",
    "        # Cria a chave \"Placa_{i}\" e atribui o dicionário de poços\n",
    "        dici_placas[f\"Placa_{i}\"] = dic\n",
    "    \n",
    "    return dici_placas"
   ]
  },
  {
   "cell_type": "code",
   "execution_count": 53,
   "metadata": {},
   "outputs": [],
   "source": [
    "def arquivos_to_placas(dados_brutos):\n",
    "    \"\"\"\n",
    "    Constrói um dicionário de placas a partir de uma lista de dicionários de poços.\n",
    "\n",
    "    :param arquivos: Lista de dicionários de poços\n",
    "    :return: Dicionário de placas organizado\n",
    "    \"\"\"\n",
    "    \n",
    "    lista_df_destriplicados = []\n",
    "\n",
    "    for dados in dados_brutos: \n",
    "        df_reduzido = df_triplicatas(dados)\n",
    "        lista_df_destriplicados.append(df_reduzido)\n",
    "\n",
    "    lista_dici_poços = []\n",
    "\n",
    "    for df in lista_df_destriplicados:\n",
    "        dici_poços = construir_dici_poços(df)\n",
    "        lista_dici_poços.append(dici_poços)\n",
    "    \n",
    "\n",
    "    dici_placas = construir_dici_placas(lista_dici_poços)\n",
    "\n",
    "    return dici_placas\n"
   ]
  },
  {
   "cell_type": "code",
   "execution_count": 54,
   "metadata": {},
   "outputs": [],
   "source": [
    "dados_brutos = [dataset_exemplo]"
   ]
  },
  {
   "cell_type": "code",
   "execution_count": 55,
   "metadata": {},
   "outputs": [],
   "source": [
    "dici_final = fn.arquivos_to_placas(dados_brutos)"
   ]
  },
  {
   "cell_type": "code",
   "execution_count": 58,
   "metadata": {},
   "outputs": [
    {
     "data": {
      "text/plain": [
       "{'Placa_1': {'Poço-A(1-3)':      Tempo(horas)  Poço-A(1-3)\n",
       "  0        0.000000     0.258000\n",
       "  1        0.500000     0.307333\n",
       "  2        1.000000     0.334333\n",
       "  3        1.500000     0.363333\n",
       "  4        2.000000     0.394333\n",
       "  ..            ...          ...\n",
       "  235    117.504167     8.317333\n",
       "  236    118.004167     8.328000\n",
       "  237    118.504167     8.330333\n",
       "  238    119.004167     8.363333\n",
       "  239    119.504167     8.328000\n",
       "  \n",
       "  [240 rows x 2 columns],\n",
       "  'Poço-A(4-6)':      Tempo(horas)  Poço-A(4-6)\n",
       "  0        0.000000     0.208333\n",
       "  1        0.500000     0.252333\n",
       "  2        1.000000     0.271667\n",
       "  3        1.500000     0.291333\n",
       "  4        2.000000     0.319667\n",
       "  ..            ...          ...\n",
       "  235    117.504167     7.636333\n",
       "  236    118.004167     7.644333\n",
       "  237    118.504167     7.689333\n",
       "  238    119.004167     7.711000\n",
       "  239    119.504167     7.682667\n",
       "  \n",
       "  [240 rows x 2 columns],\n",
       "  'Poço-A(7-9)':      Tempo(horas)  Poço-A(7-9)\n",
       "  0        0.000000     0.165000\n",
       "  1        0.500000     0.204333\n",
       "  2        1.000000     0.220000\n",
       "  3        1.500000     0.231667\n",
       "  4        2.000000     0.251667\n",
       "  ..            ...          ...\n",
       "  235    117.504167     7.483333\n",
       "  236    118.004167     7.487667\n",
       "  237    118.504167     7.518000\n",
       "  238    119.004167     7.513000\n",
       "  239    119.504167     7.523333\n",
       "  \n",
       "  [240 rows x 2 columns],\n",
       "  'Poço-A(10-12)':      Tempo(horas)  Poço-A(10-12)\n",
       "  0        0.000000       0.185667\n",
       "  1        0.500000       0.229000\n",
       "  2        1.000000       0.251667\n",
       "  3        1.500000       0.265667\n",
       "  4        2.000000       0.284000\n",
       "  ..            ...            ...\n",
       "  235    117.504167       8.803333\n",
       "  236    118.004167       8.809333\n",
       "  237    118.504167       8.837667\n",
       "  238    119.004167       8.828000\n",
       "  239    119.504167       8.827333\n",
       "  \n",
       "  [240 rows x 2 columns],\n",
       "  'Poço-B(1-3)':      Tempo(horas)  Poço-B(1-3)\n",
       "  0        0.000000     0.207333\n",
       "  1        0.500000     0.260667\n",
       "  2        1.000000     0.281000\n",
       "  3        1.500000     0.304333\n",
       "  4        2.000000     0.331667\n",
       "  ..            ...          ...\n",
       "  235    117.504167     8.433667\n",
       "  236    118.004167     8.435333\n",
       "  237    118.504167     8.448000\n",
       "  238    119.004167     8.485333\n",
       "  239    119.504167     8.427000\n",
       "  \n",
       "  [240 rows x 2 columns],\n",
       "  'Poço-B(4-6)':      Tempo(horas)  Poço-B(4-6)\n",
       "  0        0.000000     0.189000\n",
       "  1        0.500000     0.232667\n",
       "  2        1.000000     0.248000\n",
       "  3        1.500000     0.269333\n",
       "  4        2.000000     0.295333\n",
       "  ..            ...          ...\n",
       "  235    117.504167     7.857667\n",
       "  236    118.004167     7.827333\n",
       "  237    118.504167     7.844000\n",
       "  238    119.004167     7.900000\n",
       "  239    119.504167     7.845333\n",
       "  \n",
       "  [240 rows x 2 columns],\n",
       "  'Poço-B(7-9)':      Tempo(horas)  Poço-B(7-9)\n",
       "  0        0.000000     0.146000\n",
       "  1        0.500000     0.182333\n",
       "  2        1.000000     0.196000\n",
       "  3        1.500000     0.210333\n",
       "  4        2.000000     0.232333\n",
       "  ..            ...          ...\n",
       "  235    117.504167     7.754667\n",
       "  236    118.004167     7.773333\n",
       "  237    118.504167     7.788333\n",
       "  238    119.004167     7.816000\n",
       "  239    119.504167     7.793333\n",
       "  \n",
       "  [240 rows x 2 columns],\n",
       "  'Poço-B(10-12)':      Tempo(horas)  Poço-B(10-12)\n",
       "  0        0.000000       0.168667\n",
       "  1        0.500000       0.210667\n",
       "  2        1.000000       0.232000\n",
       "  3        1.500000       0.254000\n",
       "  4        2.000000       0.281667\n",
       "  ..            ...            ...\n",
       "  235    117.504167       7.634000\n",
       "  236    118.004167       7.645667\n",
       "  237    118.504167       7.647000\n",
       "  238    119.004167       7.660000\n",
       "  239    119.504167       7.676333\n",
       "  \n",
       "  [240 rows x 2 columns],\n",
       "  'Poço-C(1-3)':      Tempo(horas)  Poço-C(1-3)\n",
       "  0        0.000000     0.176667\n",
       "  1        0.500000     0.226000\n",
       "  2        1.000000     0.249667\n",
       "  3        1.500000     0.280000\n",
       "  4        2.000000     0.308333\n",
       "  ..            ...          ...\n",
       "  235    117.504167     8.590000\n",
       "  236    118.004167     8.616667\n",
       "  237    118.504167     8.639333\n",
       "  238    119.004167     8.713333\n",
       "  239    119.504167     8.641333\n",
       "  \n",
       "  [240 rows x 2 columns],\n",
       "  'Poço-C(4-6)':      Tempo(horas)  Poço-C(4-6)\n",
       "  0        0.000000     0.150000\n",
       "  1        0.500000     0.184667\n",
       "  2        1.000000     0.200333\n",
       "  3        1.500000     0.224000\n",
       "  4        2.000000     0.247667\n",
       "  ..            ...          ...\n",
       "  235    117.504167     7.988000\n",
       "  236    118.004167     8.010333\n",
       "  237    118.504167     8.016333\n",
       "  238    119.004167     8.066667\n",
       "  239    119.504167     8.036333\n",
       "  \n",
       "  [240 rows x 2 columns],\n",
       "  'Poço-C(7-9)':      Tempo(horas)  Poço-C(7-9)\n",
       "  0        0.000000     0.144000\n",
       "  1        0.500000     0.184333\n",
       "  2        1.000000     0.199667\n",
       "  3        1.500000     0.215000\n",
       "  4        2.000000     0.237333\n",
       "  ..            ...          ...\n",
       "  235    117.504167    10.899000\n",
       "  236    118.004167    10.953000\n",
       "  237    118.504167    10.962667\n",
       "  238    119.004167    11.030333\n",
       "  239    119.504167    10.965333\n",
       "  \n",
       "  [240 rows x 2 columns],\n",
       "  'Poço-C(10-12)':      Tempo(horas)  Poço-C(10-12)\n",
       "  0        0.000000       0.127667\n",
       "  1        0.500000       0.163000\n",
       "  2        1.000000       0.178333\n",
       "  3        1.500000       0.196667\n",
       "  4        2.000000       0.219333\n",
       "  ..            ...            ...\n",
       "  235    117.504167       7.244667\n",
       "  236    118.004167       7.255333\n",
       "  237    118.504167       7.263333\n",
       "  238    119.004167       7.277000\n",
       "  239    119.504167       7.269667\n",
       "  \n",
       "  [240 rows x 2 columns],\n",
       "  'Poço-D(1-3)':      Tempo(horas)  Poço-D(1-3)\n",
       "  0        0.000000     0.147000\n",
       "  1        0.500000     0.187667\n",
       "  2        1.000000     0.210000\n",
       "  3        1.500000     0.228000\n",
       "  4        2.000000     0.251333\n",
       "  ..            ...          ...\n",
       "  235    117.504167    14.424000\n",
       "  236    118.004167    14.413333\n",
       "  237    118.504167    14.429667\n",
       "  238    119.004167    14.585333\n",
       "  239    119.504167    14.444000\n",
       "  \n",
       "  [240 rows x 2 columns],\n",
       "  'Poço-D(4-6)':      Tempo(horas)  Poço-D(4-6)\n",
       "  0        0.000000     0.092000\n",
       "  1        0.500000     0.118333\n",
       "  2        1.000000     0.131667\n",
       "  3        1.500000     0.144333\n",
       "  4        2.000000     0.160000\n",
       "  ..            ...          ...\n",
       "  235    117.504167     8.736667\n",
       "  236    118.004167     8.717667\n",
       "  237    118.504167     8.713000\n",
       "  238    119.004167     8.795333\n",
       "  239    119.504167     8.748000\n",
       "  \n",
       "  [240 rows x 2 columns],\n",
       "  'Poço-D(7-9)':      Tempo(horas)  Poço-D(7-9)\n",
       "  0        0.000000     0.126000\n",
       "  1        0.500000     0.159667\n",
       "  2        1.000000     0.176333\n",
       "  3        1.500000     0.195333\n",
       "  4        2.000000     0.214333\n",
       "  ..            ...          ...\n",
       "  235    117.504167     7.677000\n",
       "  236    118.004167     7.671667\n",
       "  237    118.504167     7.703667\n",
       "  238    119.004167     7.766667\n",
       "  239    119.504167     7.696333\n",
       "  \n",
       "  [240 rows x 2 columns],\n",
       "  'Poço-D(10-12)':      Tempo(horas)  Poço-D(10-12)\n",
       "  0        0.000000       0.129333\n",
       "  1        0.500000       0.167000\n",
       "  2        1.000000       0.187333\n",
       "  3        1.500000       0.208000\n",
       "  4        2.000000       0.226667\n",
       "  ..            ...            ...\n",
       "  235    117.504167       9.861667\n",
       "  236    118.004167       9.911000\n",
       "  237    118.504167       9.961000\n",
       "  238    119.004167       9.945000\n",
       "  239    119.504167       9.952667\n",
       "  \n",
       "  [240 rows x 2 columns],\n",
       "  'Poço-E(1-3)':      Tempo(horas)  Poço-E(1-3)\n",
       "  0        0.000000     0.176000\n",
       "  1        0.500000     0.223000\n",
       "  2        1.000000     0.242333\n",
       "  3        1.500000     0.271333\n",
       "  4        2.000000     0.304333\n",
       "  ..            ...          ...\n",
       "  235    117.504167     8.639667\n",
       "  236    118.004167     8.654333\n",
       "  237    118.504167     8.654000\n",
       "  238    119.004167     8.831667\n",
       "  239    119.504167     8.697667\n",
       "  \n",
       "  [240 rows x 2 columns],\n",
       "  'Poço-E(4-6)':      Tempo(horas)  Poço-E(4-6)\n",
       "  0        0.000000     0.118000\n",
       "  1        0.500000     0.154333\n",
       "  2        1.000000     0.169333\n",
       "  3        1.500000     0.188333\n",
       "  4        2.000000     0.212333\n",
       "  ..            ...          ...\n",
       "  235    117.504167     8.235667\n",
       "  236    118.004167     8.243667\n",
       "  237    118.504167     8.263333\n",
       "  238    119.004167     8.468333\n",
       "  239    119.504167     8.273333\n",
       "  \n",
       "  [240 rows x 2 columns],\n",
       "  'Poço-E(7-9)':      Tempo(horas)  Poço-E(7-9)\n",
       "  0        0.000000     0.150000\n",
       "  1        0.500000     0.195667\n",
       "  2        1.000000     0.218333\n",
       "  3        1.500000     0.237667\n",
       "  4        2.000000     0.264667\n",
       "  ..            ...          ...\n",
       "  235    117.504167     7.711000\n",
       "  236    118.004167     7.703333\n",
       "  237    118.504167     7.721000\n",
       "  238    119.004167     7.870333\n",
       "  239    119.504167     7.739000\n",
       "  \n",
       "  [240 rows x 2 columns],\n",
       "  'Poço-E(10-12)':      Tempo(horas)  Poço-E(10-12)\n",
       "  0        0.000000       0.128000\n",
       "  1        0.500000       0.166667\n",
       "  2        1.000000       0.187667\n",
       "  3        1.500000       0.208000\n",
       "  4        2.000000       0.229667\n",
       "  ..            ...            ...\n",
       "  235    117.504167       7.402333\n",
       "  236    118.004167       7.400333\n",
       "  237    118.504167       7.430667\n",
       "  238    119.004167       7.483667\n",
       "  239    119.504167       7.439667\n",
       "  \n",
       "  [240 rows x 2 columns],\n",
       "  'Poço-F(1-3)':      Tempo(horas)  Poço-F(1-3)\n",
       "  0        0.000000     0.176667\n",
       "  1        0.500000     0.212667\n",
       "  2        1.000000     0.235000\n",
       "  3        1.500000     0.261667\n",
       "  4        2.000000     0.290333\n",
       "  ..            ...          ...\n",
       "  235    117.504167     8.366000\n",
       "  236    118.004167     8.343333\n",
       "  237    118.504167     8.388333\n",
       "  238    119.004167     8.526000\n",
       "  239    119.504167     8.367000\n",
       "  \n",
       "  [240 rows x 2 columns],\n",
       "  'Poço-F(4-6)':      Tempo(horas)  Poço-F(4-6)\n",
       "  0        0.000000     0.148000\n",
       "  1        0.500000     0.192000\n",
       "  2        1.000000     0.210667\n",
       "  3        1.500000     0.233000\n",
       "  4        2.000000     0.260667\n",
       "  ..            ...          ...\n",
       "  235    117.504167     9.437333\n",
       "  236    118.004167     9.418667\n",
       "  237    118.504167     9.462000\n",
       "  238    119.004167     9.673000\n",
       "  239    119.504167     9.495667\n",
       "  \n",
       "  [240 rows x 2 columns],\n",
       "  'Poço-F(7-9)':      Tempo(horas)  Poço-F(7-9)\n",
       "  0        0.000000     0.114000\n",
       "  1        0.500000     0.139000\n",
       "  2        1.000000     0.156000\n",
       "  3        1.500000     0.173667\n",
       "  4        2.000000     0.190667\n",
       "  ..            ...          ...\n",
       "  235    117.504167     8.592333\n",
       "  236    118.004167     8.614000\n",
       "  237    118.504167     8.639333\n",
       "  238    119.004167     8.704000\n",
       "  239    119.504167     8.614333\n",
       "  \n",
       "  [240 rows x 2 columns],\n",
       "  'Poço-F(10-12)':      Tempo(horas)  Poço-F(10-12)\n",
       "  0        0.000000       0.124667\n",
       "  1        0.500000       0.156000\n",
       "  2        1.000000       0.177333\n",
       "  3        1.500000       0.197333\n",
       "  4        2.000000       0.220000\n",
       "  ..            ...            ...\n",
       "  235    117.504167       7.931667\n",
       "  236    118.004167       7.949333\n",
       "  237    118.504167       7.942667\n",
       "  238    119.004167       8.014000\n",
       "  239    119.504167       7.965333\n",
       "  \n",
       "  [240 rows x 2 columns],\n",
       "  'Poço-G(1-3)':      Tempo(horas)  Poço-G(1-3)\n",
       "  0        0.000000     0.200333\n",
       "  1        0.500000     0.241667\n",
       "  2        1.000000     0.266333\n",
       "  3        1.500000     0.297000\n",
       "  4        2.000000     0.325000\n",
       "  ..            ...          ...\n",
       "  235    117.504167     9.822000\n",
       "  236    118.004167     9.865333\n",
       "  237    118.504167     9.916667\n",
       "  238    119.004167     9.967667\n",
       "  239    119.504167     9.937000\n",
       "  \n",
       "  [240 rows x 2 columns],\n",
       "  'Poço-G(4-6)':      Tempo(horas)  Poço-G(4-6)\n",
       "  0        0.000000     0.170333\n",
       "  1        0.500000     0.211000\n",
       "  2        1.000000     0.229000\n",
       "  3        1.500000     0.247333\n",
       "  4        2.000000     0.271333\n",
       "  ..            ...          ...\n",
       "  235    117.504167     8.937000\n",
       "  236    118.004167     8.958000\n",
       "  237    118.504167     8.965667\n",
       "  238    119.004167     9.037000\n",
       "  239    119.504167     8.973000\n",
       "  \n",
       "  [240 rows x 2 columns],\n",
       "  'Poço-G(7-9)':      Tempo(horas)  Poço-G(7-9)\n",
       "  0        0.000000     0.132000\n",
       "  1        0.500000     0.154000\n",
       "  2        1.000000     0.170667\n",
       "  3        1.500000     0.183333\n",
       "  4        2.000000     0.196667\n",
       "  ..            ...          ...\n",
       "  235    117.504167     5.705667\n",
       "  236    118.004167     5.719667\n",
       "  237    118.504167     5.713667\n",
       "  238    119.004167     5.791333\n",
       "  239    119.504167     5.743000\n",
       "  \n",
       "  [240 rows x 2 columns],\n",
       "  'Poço-G(10-12)':      Tempo(horas)  Poço-G(10-12)\n",
       "  0        0.000000       0.172000\n",
       "  1        0.500000       0.207667\n",
       "  2        1.000000       0.232000\n",
       "  3        1.500000       0.248000\n",
       "  4        2.000000       0.269333\n",
       "  ..            ...            ...\n",
       "  235    117.504167       9.334000\n",
       "  236    118.004167       9.326333\n",
       "  237    118.504167       9.339333\n",
       "  238    119.004167       9.395667\n",
       "  239    119.504167       9.414000\n",
       "  \n",
       "  [240 rows x 2 columns],\n",
       "  'Poço-H(1-3)':      Tempo(horas)  Poço-H(1-3)\n",
       "  0        0.000000     0.225000\n",
       "  1        0.500000     0.258333\n",
       "  2        1.000000     0.279333\n",
       "  3        1.500000     0.301000\n",
       "  4        2.000000     0.324000\n",
       "  ..            ...          ...\n",
       "  235    117.504167    10.086667\n",
       "  236    118.004167    10.125000\n",
       "  237    118.504167    10.132667\n",
       "  238    119.004167    10.148333\n",
       "  239    119.504167    10.134333\n",
       "  \n",
       "  [240 rows x 2 columns],\n",
       "  'Poço-H(4-6)':      Tempo(horas)  Poço-H(4-6)\n",
       "  0        0.000000     0.194667\n",
       "  1        0.500000     0.230000\n",
       "  2        1.000000     0.250000\n",
       "  3        1.500000     0.273000\n",
       "  4        2.000000     0.294667\n",
       "  ..            ...          ...\n",
       "  235    117.504167     9.284667\n",
       "  236    118.004167     9.263667\n",
       "  237    118.504167     9.279667\n",
       "  238    119.004167     9.326000\n",
       "  239    119.504167     9.295000\n",
       "  \n",
       "  [240 rows x 2 columns],\n",
       "  'Poço-H(7-9)':      Tempo(horas)  Poço-H(7-9)\n",
       "  0        0.000000     0.112000\n",
       "  1        0.500000     0.119000\n",
       "  2        1.000000     0.126667\n",
       "  3        1.500000     0.132667\n",
       "  4        2.000000     0.135000\n",
       "  ..            ...          ...\n",
       "  235    117.504167     4.064667\n",
       "  236    118.004167     4.088000\n",
       "  237    118.504167     4.132667\n",
       "  238    119.004167     4.241333\n",
       "  239    119.504167     4.161000\n",
       "  \n",
       "  [240 rows x 2 columns],\n",
       "  'Poço-H(10-12)':      Tempo(horas)  Poço-H(10-12)\n",
       "  0        0.000000       0.060333\n",
       "  1        0.500000       0.055667\n",
       "  2        1.000000       0.055000\n",
       "  3        1.500000       0.056333\n",
       "  4        2.000000       0.056667\n",
       "  ..            ...            ...\n",
       "  235    117.504167       0.075000\n",
       "  236    118.004167       0.074000\n",
       "  237    118.504167       0.075000\n",
       "  238    119.004167       0.075333\n",
       "  239    119.504167       0.074333\n",
       "  \n",
       "  [240 rows x 2 columns]}}"
      ]
     },
     "execution_count": 58,
     "metadata": {},
     "output_type": "execute_result"
    }
   ],
   "source": [
    "dici_final"
   ]
  },
  {
   "cell_type": "code",
   "execution_count": 61,
   "metadata": {},
   "outputs": [
    {
     "name": "stdout",
     "output_type": "stream",
     "text": [
      "Poço-A(1-3)\n",
      "Poço-A(4-6)\n",
      "Poço-A(7-9)\n",
      "Poço-A(10-12)\n",
      "Poço-B(1-3)\n",
      "Poço-B(4-6)\n",
      "Poço-B(7-9)\n",
      "Poço-B(10-12)\n",
      "Poço-C(1-3)\n",
      "Poço-C(4-6)\n",
      "Poço-C(7-9)\n",
      "Poço-C(10-12)\n",
      "Poço-D(1-3)\n",
      "Poço-D(4-6)\n",
      "Poço-D(7-9)\n",
      "Poço-D(10-12)\n",
      "Poço-E(1-3)\n",
      "Poço-E(4-6)\n",
      "Poço-E(7-9)\n",
      "Poço-E(10-12)\n",
      "Poço-F(1-3)\n",
      "Poço-F(4-6)\n",
      "Poço-F(7-9)\n",
      "Poço-F(10-12)\n",
      "Poço-G(1-3)\n",
      "Poço-G(4-6)\n",
      "Poço-G(7-9)\n",
      "Poço-G(10-12)\n",
      "Poço-H(1-3)\n",
      "Poço-H(4-6)\n",
      "Poço-H(7-9)\n",
      "Poço-H(10-12)\n"
     ]
    }
   ],
   "source": [
    "for i in dici_final:\n",
    "    for o in dici_final[i]:\n",
    "        print(o)"
   ]
  },
  {
   "cell_type": "code",
   "execution_count": 56,
   "metadata": {},
   "outputs": [],
   "source": [
    "y_0 = dici_final['Placa_1']['Poço-B(10-12)']['Poço-B(10-12)']"
   ]
  },
  {
   "cell_type": "code",
   "execution_count": 57,
   "metadata": {},
   "outputs": [
    {
     "data": {
      "text/plain": [
       "0      0.168667\n",
       "1      0.210667\n",
       "2      0.232000\n",
       "3      0.254000\n",
       "4      0.281667\n",
       "         ...   \n",
       "235    7.634000\n",
       "236    7.645667\n",
       "237    7.647000\n",
       "238    7.660000\n",
       "239    7.676333\n",
       "Name: Poço-B(10-12), Length: 240, dtype: float64"
      ]
     },
     "execution_count": 57,
     "metadata": {},
     "output_type": "execute_result"
    }
   ],
   "source": [
    "y_0"
   ]
  },
  {
   "cell_type": "markdown",
   "metadata": {},
   "source": [
    "## Modelagem Matemática"
   ]
  },
  {
   "cell_type": "markdown",
   "metadata": {},
   "source": [
    "### Definindo Variáveis:"
   ]
  },
  {
   "cell_type": "code",
   "execution_count": null,
   "metadata": {},
   "outputs": [],
   "source": [
    "placa = input(\"Qual a placa os poços de seu interesse (Ex: Placa_1)\")\n",
    "poços = input(\"Qual os poços que estavam suas amostras. (Ex: Poço-B(1-3))\")\n"
   ]
  },
  {
   "cell_type": "code",
   "execution_count": null,
   "metadata": {},
   "outputs": [],
   "source": [
    "x = dici_final[placa][poços][dici_final[placa][poços].columns[0]]\n",
    "y = dici_final[placa][poços][dici_final[placa][poços].columns[1]]\n",
    "\n",
    "\n",
    "#Método Antigo\n",
    "#y = dicionario_poços[dados][dicionario_poços[dados].columns[1]] \n",
    "#x = dicionario_poços[dados][dicionario_poços[dados].columns[0]] "
   ]
  },
  {
   "cell_type": "markdown",
   "metadata": {},
   "source": [
    "### Definindo Modelo de Gompertz:"
   ]
  },
  {
   "cell_type": "code",
   "execution_count": 65,
   "metadata": {},
   "outputs": [],
   "source": [
    "def gompertz(t, Nmax, k, tlag):\n",
    "    '''\n",
    "    Calcula a função de Gompertz para modelar o crescimento microbiano.\n",
    "\n",
    "    Args:\n",
    "    t (float): Tempo em unidades de horas.\n",
    "    Nmax (float): Valor assintótico máximo da população de micro-organismos. Representa a capacidade máxima de crescimento da cultura.\n",
    "    k (float): Taxa de crescimento específica. Determina a rapidez com que a população de micro-organismos cresce após o período de lag.\n",
    "    tlag (float): Tempo de lag ou atraso antes do início do crescimento exponencial. Representa o tempo necessário para a adaptação inicial da população.\n",
    "\n",
    "    Returns:\n",
    "    float: Resultado da função de Gompertz, o valor estimado da população de micro-organismos para cada instante de tempo.\n",
    "    '''\n",
    "    return Nmax * np.exp(-np.exp(-k * (t - tlag)))"
   ]
  },
  {
   "cell_type": "code",
   "execution_count": 81,
   "metadata": {},
   "outputs": [
    {
     "ename": "AttributeError",
     "evalue": "module 'funcoes' has no attribute 'gompertz'",
     "output_type": "error",
     "traceback": [
      "\u001b[0;31m---------------------------------------------------------------------------\u001b[0m",
      "\u001b[0;31mAttributeError\u001b[0m                            Traceback (most recent call last)",
      "Cell \u001b[0;32mIn[81], line 1\u001b[0m\n\u001b[0;32m----> 1\u001b[0m outro \u001b[38;5;241m=\u001b[39m fn\u001b[38;5;241m.\u001b[39mgompertz(\u001b[38;5;241m1\u001b[39m ,\u001b[38;5;241m34\u001b[39m,\u001b[38;5;241m5\u001b[39m , \u001b[38;5;241m6\u001b[39m)\n",
      "\u001b[0;31mAttributeError\u001b[0m: module 'funcoes' has no attribute 'gompertz'"
     ]
    }
   ],
   "source": [
    "outro = fn.gompertz(1 ,34,5 , 6)"
   ]
  },
  {
   "cell_type": "code",
   "execution_count": 68,
   "metadata": {},
   "outputs": [
    {
     "ename": "AttributeError",
     "evalue": "module 'funcoes' has no attribute 'gompertz'",
     "output_type": "error",
     "traceback": [
      "\u001b[0;31m---------------------------------------------------------------------------\u001b[0m",
      "\u001b[0;31mAttributeError\u001b[0m                            Traceback (most recent call last)",
      "Cell \u001b[0;32mIn[68], line 1\u001b[0m\n\u001b[0;32m----> 1\u001b[0m modelo_gompertz \u001b[38;5;241m=\u001b[39m Model(fn\u001b[38;5;241m.\u001b[39mgompertz)\n\u001b[1;32m      3\u001b[0m params \u001b[38;5;241m=\u001b[39m modelo_gompertz\u001b[38;5;241m.\u001b[39mmake_params(Nmax\u001b[38;5;241m=\u001b[39m\u001b[38;5;241m10\u001b[39m, k\u001b[38;5;241m=\u001b[39m\u001b[38;5;241m0.5\u001b[39m, tlag\u001b[38;5;241m=\u001b[39m\u001b[38;5;241m1\u001b[39m)\n\u001b[1;32m      4\u001b[0m params[\u001b[38;5;124m'\u001b[39m\u001b[38;5;124mNmax\u001b[39m\u001b[38;5;124m'\u001b[39m]\u001b[38;5;241m.\u001b[39mmin \u001b[38;5;241m=\u001b[39m \u001b[38;5;241m0\u001b[39m  \u001b[38;5;66;03m# Limite mínimo para Nmax\u001b[39;00m\n",
      "\u001b[0;31mAttributeError\u001b[0m: module 'funcoes' has no attribute 'gompertz'"
     ]
    }
   ],
   "source": [
    "modelo_gompertz = Model(fn.gompertz)\n",
    "\n",
    "params = modelo_gompertz.make_params(Nmax=10, k=0.5, tlag=1)\n",
    "params['Nmax'].min = 0  # Limite mínimo para Nmax\n",
    "params['k'].min = 0.01  # Limite mínimo para k\n",
    "params['tlag'].min = 0  # Limite mínimo para tlag\n",
    "\n",
    "\n",
    "#desvio_padrao_nmax = resultado_fit.params[\"Nmax\"].stderr\n",
    "\n",
    "residuos = y - resultado_fit.best_fit\n",
    "\n",
    "# Calcula o desvio padrão dos resíduos\n",
    "desvio_padrao = np.std(residuos)\n",
    "\n",
    "\n",
    "resultado_fit = modelo_gompertz.fit(y, params, t=x)\n",
    "print(resultado_fit.fit_report())"
   ]
  },
  {
   "cell_type": "code",
   "execution_count": null,
   "metadata": {},
   "outputs": [
    {
     "data": {
      "image/png": "[encoded data removed]",
      "text/plain": [
       "<Figure size 640x480 with 1 Axes>"
      ]
     },
     "metadata": {},
     "output_type": "display_data"
    }
   ],
   "source": [
    "plt.plot(x, y, '.')\n",
    "plt.plot(x, resultado_fit.init_fit, '--', label='Palpite inicial')\n",
    "plt.plot(x, resultado_fit.best_fit, '-', color='black', label='Melhor ajuste encontrado')\n",
    "\n",
    "\n",
    "plt.fill_between(x, resultado_fit.best_fit - desvio_padrao, resultado_fit.best_fit + desvio_padrao,\n",
    "                    color='gray', alpha=0.3, label='Intervalo de 1 desvio padrão')\n",
    "plt.legend()\n",
    "plt.show()"
   ]
  },
  {
   "cell_type": "markdown",
   "metadata": {},
   "source": [
    "### Denifindo Modelo Linear:"
   ]
  },
  {
   "cell_type": "code",
   "execution_count": null,
   "metadata": {},
   "outputs": [
    {
     "ename": "NameError",
     "evalue": "name 'Model' is not defined",
     "output_type": "error",
     "traceback": [
      "\u001b[0;31m---------------------------------------------------------------------------\u001b[0m",
      "\u001b[0;31mNameError\u001b[0m                                 Traceback (most recent call last)",
      "Cell \u001b[0;32mIn[1], line 7\u001b[0m\n\u001b[1;32m      4\u001b[0m   \u001b[38;5;28;01mreturn\u001b[39;00m slope \u001b[38;5;241m*\u001b[39m t \u001b[38;5;241m+\u001b[39m intercept\n\u001b[1;32m      6\u001b[0m \u001b[38;5;66;03m# Criar o modelo linear\u001b[39;00m\n\u001b[0;32m----> 7\u001b[0m linear_model \u001b[38;5;241m=\u001b[39m Model(linear)\n\u001b[1;32m      9\u001b[0m \u001b[38;5;66;03m# Definir parâmetros iniciais\u001b[39;00m\n\u001b[1;32m     10\u001b[0m params \u001b[38;5;241m=\u001b[39m linear_model\u001b[38;5;241m.\u001b[39mmake_params(slope\u001b[38;5;241m=\u001b[39m\u001b[38;5;241m1\u001b[39m, intercept\u001b[38;5;241m=\u001b[39m\u001b[38;5;241m0\u001b[39m)\n",
      "\u001b[0;31mNameError\u001b[0m: name 'Model' is not defined"
     ]
    }
   ],
   "source": [
    "  # Definir a função linear\n",
    "def linear(t, slope, intercept):\n",
    "    \"\"\"Define uma função linear que será usada para o ajuste de dados.\"\"\"\n",
    "    return slope * t + intercept\n",
    "\n",
    "# Criar o modelo linear\n",
    "linear_model = Model(linear)\n",
    "\n",
    "# Definir parâmetros iniciais\n",
    "params = linear_model.make_params(slope=1, intercept=0)"
   ]
  },
  {
   "cell_type": "code",
   "execution_count": null,
   "metadata": {},
   "outputs": [],
   "source": [
    "log_column = np.log(y)"
   ]
  },
  {
   "cell_type": "code",
   "execution_count": null,
   "metadata": {},
   "outputs": [],
   "source": [
    "# Fazer o ajuste\n",
    "result = linear_model.fit(log_column, params, t=x)\n",
    "\n",
    "# Calcular os resíduos\n",
    "residuos = y - result.best_fit\n",
    "\n",
    "# Calcular o desvio padrão dos resíduos\n",
    "desvio_padrao = np.std(residuos)"
   ]
  },
  {
   "cell_type": "code",
   "execution_count": null,
   "metadata": {},
   "outputs": [
    {
     "name": "stdout",
     "output_type": "stream",
     "text": [
      "[[Model]]\n",
      "    Model(linear)\n",
      "[[Fit Statistics]]\n",
      "    # fitting method   = leastsq\n",
      "    # function evals   = 7\n",
      "    # data points      = 240\n",
      "    # variables        = 2\n",
      "    chi-square         = 63.2133172\n",
      "    reduced chi-square = 0.26560217\n",
      "    Akaike info crit   = -316.189743\n",
      "    Bayesian info crit = -309.228465\n",
      "    R-squared          = 0.59379813\n",
      "[[Variables]]\n",
      "    slope:      0.01791194 +/- 9.6030e-04 (5.36%) (init = 1)\n",
      "    intercept:  0.54653849 +/- 0.06632662 (12.14%) (init = 0)\n",
      "[[Correlations]] (unreported correlations are < 0.100)\n",
      "    C(slope, intercept) = -0.8651\n"
     ]
    }
   ],
   "source": [
    "\n",
    "print(result.fit_report())"
   ]
  },
  {
   "cell_type": "code",
   "execution_count": null,
   "metadata": {},
   "outputs": [
    {
     "data": {
      "image/png": "[encoded data removed]",
      "text/plain": [
       "<Figure size 600x400 with 1 Axes>"
      ]
     },
     "metadata": {},
     "output_type": "display_data"
    }
   ],
   "source": [
    "plt.figure(figsize=(6, 4))\n",
    "plt.plot(x, log_column, marker='.', linestyle='-')\n",
    "plt.xlabel('Tempo em horas')  # Renomeie conforme necessário\n",
    "plt.ylabel('Log do valor verde')  # Renomeie conforme necessário\n",
    "plt.title('Gráfico da Coluna 1 e Logaritmo da Coluna 2')\n",
    "plt.grid(True)\n",
    "plt.show()"
   ]
  },
  {
   "cell_type": "markdown",
   "metadata": {},
   "source": [
    "### Modelo de Zwietering"
   ]
  },
  {
   "cell_type": "code",
   "execution_count": null,
   "metadata": {},
   "outputs": [],
   "source": [
    "def zwietering(t, y_0, Nmax, k, tlag):\n",
    "    \"\"\"\n",
    "    Calcula a função modificada de Gompertz para modelar o crescimento microbiano.\n",
    "\n",
    "    A função de Gompertz é frequentemente usada para descrever o crescimento de populações biológicas, como o crescimento microbiano, com base em parâmetros que controlam a taxa de crescimento, o tempo de atraso (lag) e o valor máximo de crescimento.\n",
    "\n",
    "    Args:\n",
    "        t (float): Tempo em unidades de horas.\n",
    "        y_0 (float): Valor inicial da variável de resposta no tempo zero (t=0).\n",
    "        A (float): Amplitude do crescimento ou valor assintótico máximo atingido pela função.\n",
    "        k (float): Taxa de crescimento específica, controlando a rapidez com que o crescimento ocorre após o período de lag.\n",
    "        tlag (float): Tempo de lag ou atraso, representando o tempo necessário para a adaptação inicial antes do crescimento exponencial.\n",
    "\n",
    "    Returns:\n",
    "        float: O valor estimado da função de Gompertz no tempo `t`, representando o crescimento da população microbiana ao longo do tempo.\n",
    "    \"\"\"\n",
    "    return y_0 + ((Nmax - y_0)/(1 + np.exp(((4 * k)/Nmax) * (tlag - t) + 2)))"
   ]
  },
  {
   "cell_type": "code",
   "execution_count": null,
   "metadata": {},
   "outputs": [
    {
     "name": "stdout",
     "output_type": "stream",
     "text": [
      "[[Model]]\n",
      "    Model(zwietering)\n",
      "[[Fit Statistics]]\n",
      "    # fitting method   = leastsq\n",
      "    # function evals   = 123\n",
      "    # data points      = 240\n",
      "    # variables        = 3\n",
      "    chi-square         = 15.7527702\n",
      "    reduced chi-square = 0.06646738\n",
      "    Akaike info crit   = -647.669445\n",
      "    Bayesian info crit = -637.227528\n",
      "    R-squared          = 0.98793666\n",
      "[[Variables]]\n",
      "    y_0:   0 (fixed)\n",
      "    Nmax:  7.37566083 +/- 0.02626751 (0.36%) (init = 0.1)\n",
      "    k:     0.15701236 +/- 0.00278276 (1.77%) (init = 0.1)\n",
      "    tlag:  4.14236411 +/- 0.46741272 (11.28%) (init = 0)\n",
      "[[Correlations]] (unreported correlations are < 0.100)\n",
      "    C(k, tlag)    = +0.8899\n",
      "    C(Nmax, k)    = -0.3188\n",
      "    C(Nmax, tlag) = -0.2051\n"
     ]
    }
   ],
   "source": [
    "y_0 = dici_final['Placa_1']['Poço-B(10-12)']['Poço-B(10-12)'][0]\n",
    "\n",
    "\n",
    "\n",
    "modelo_zwietering = Model(zwietering)\n",
    "\n",
    "params = modelo_zwietering.make_params(Nmax=0.1, k=0.1, tlag=0, y_0 = 0)\n",
    "params['Nmax'].min = 0  # Limite mínimo para Nmax  \n",
    "params['k'].min = 0.01  # Limite mínimo para k\n",
    "params['tlag'].min = 0  # Limite mínimo para tlag\n",
    "params['y_0'].min = 0  # Limite mínimo para tlag\n",
    "params['y_0'].vary = False  # Fizando y_0\n",
    "\n",
    "\n",
    "\n",
    "resultado_fit = modelo_zwietering.fit(y, params, t=x)\n",
    "print(resultado_fit.fit_report())\n",
    "\n",
    "#desvio_padrao_nmax = resultado_fit.params[\"Nmax\"].stderr\n",
    "\n",
    "residuos = y - resultado_fit.best_fit\n",
    "\n",
    "# Calcula o desvio padrão dos resíduos\n",
    "desvio_padrao = np.std(residuos)"
   ]
  },
  {
   "cell_type": "code",
   "execution_count": null,
   "metadata": {},
   "outputs": [
    {
     "data": {
      "image/png": "[encoded data removed]",
      "text/plain": [
       "<Figure size 640x480 with 1 Axes>"
      ]
     },
     "metadata": {},
     "output_type": "display_data"
    }
   ],
   "source": [
    "plt.plot(x, y, '.')\n",
    "plt.plot(x, resultado_fit.init_fit, '--', label='Palpite inicial')\n",
    "plt.plot(x, resultado_fit.best_fit, '-', color='black', label='Melhor ajuste encontrado')\n",
    "\n",
    "\n",
    "plt.fill_between(x, resultado_fit.best_fit - desvio_padrao, resultado_fit.best_fit + desvio_padrao,\n",
    "                    color='gray', alpha=0.3, label='Intervalo de 1 desvio padrão')\n",
    "plt.legend()\n",
    "plt.show()"
   ]
  },
  {
   "cell_type": "code",
   "execution_count": null,
   "metadata": {},
   "outputs": [],
   "source": []
  },
  {
   "cell_type": "markdown",
   "metadata": {},
   "source": [
    "## Criando tabela de parametros iniciais:"
   ]
  },
  {
   "cell_type": "markdown",
   "metadata": {},
   "source": [
    "### Algumas variáveis:"
   ]
  },
  {
   "cell_type": "code",
   "execution_count": 35,
   "metadata": {},
   "outputs": [],
   "source": [
    "A = resultado_fit.params[\"A\"].value\n",
    "k = resultado_fit.params[\"k\"].value\n",
    "y_0\n",
    "\n"
   ]
  },
  {
   "cell_type": "markdown",
   "metadata": {},
   "source": [
    "### Definindo função do Growth Score:"
   ]
  },
  {
   "cell_type": "code",
   "execution_count": null,
   "metadata": {},
   "outputs": [],
   "source": [
    "def growth_score(k, Nmax, y_0):\n",
    "    \"\"\"\n",
    "    Calcula a pontuação de crescimento com base na taxa de crescimento específica (k) e nos valores assintóticos da população.\n",
    "\n",
    "    Args:\n",
    "    k (float): Taxa de crescimento específica. Representa a rapidez com que a população de micro-organismos cresce.\n",
    "    Nmax (float): Valor assintótico máximo da população de micro-organismos. Representa a capacidade máxima de crescimento.\n",
    "    y_0 (float): Valor inicial da população de micro-organismos.\n",
    "\n",
    "    Returns:\n",
    "    float: Pontuação de crescimento, calculada como a diferença entre o valor máximo e o valor inicial da população acrescida de 25% da taxa de crescimento.\n",
    "    \"\"\"\n",
    "    return (Nmax - y_0) + 0.25*k"
   ]
  },
  {
   "cell_type": "code",
   "execution_count": 36,
   "metadata": {},
   "outputs": [
    {
     "data": {
      "text/plain": [
       "7.2462472474833275"
      ]
     },
     "execution_count": 36,
     "metadata": {},
     "output_type": "execute_result"
    }
   ],
   "source": [
    "GS = growth_score(k, A, y_0)\n",
    "GS"
   ]
  },
  {
   "cell_type": "markdown",
   "metadata": {},
   "source": [
    "### Função que Cria Tabela:"
   ]
  },
  {
   "cell_type": "code",
   "execution_count": 41,
   "metadata": {},
   "outputs": [
    {
     "ename": "SyntaxError",
     "evalue": "parameter without a default follows parameter with a default (3112650377.py, line 1)",
     "output_type": "error",
     "traceback": [
      "\u001b[0;36m  Cell \u001b[0;32mIn[41], line 1\u001b[0;36m\u001b[0m\n\u001b[0;31m    def gerar_tabela(dici_final, modelo_escolhido = \"Gompertz\", ini_log, fim_log):\u001b[0m\n\u001b[0m                                                                ^\u001b[0m\n\u001b[0;31mSyntaxError\u001b[0m\u001b[0;31m:\u001b[0m parameter without a default follows parameter with a default\n"
     ]
    }
   ],
   "source": [
    "def gerar_tabela(dici_final, ini_log, fim_log, modelo_escolhido = \"Gompertz\"):\n",
    "\n",
    "\n",
    "    if modelo_escolhido == \"Gompertz\":\n",
    "        \n",
    "        tabela = {\n",
    "                    \"Placa\": [],\n",
    "                    \"Poços\": [],\n",
    "                    \"Taxa Crescimento\": [],\n",
    "                    \"Nmax\": [],\n",
    "                    \"Tempo lag\": [],\n",
    "                    \"Growth Score\": [],\n",
    "\n",
    "                }\n",
    "        \n",
    "\n",
    "        for placa in dici_final:\n",
    "            for poço in dici_final[placa]:\n",
    "                \n",
    "                x = dici_final[placa][poços][dici_final[placa][poços].columns[0]]\n",
    "                y = dici_final[placa][poços][dici_final[placa][poços].columns[1]]\n",
    "\n",
    "                \n",
    "\n",
    "                tabela[\"Poços\"].append(poço)\n",
    "            tabela[\"Placa\"].append(placa)\n",
    "            \n",
    "\n",
    "\n",
    "\n",
    "    if modelo_escolhido == \"Zwietering\":\n",
    "\n",
    "        tabela = {\n",
    "                    \"Placa\": [],\n",
    "                    \"Poços\": [],\n",
    "                    \"Taxa Crescimento\": [],\n",
    "                    \"Nmax\": [],\n",
    "                    \"Tempo lag\": [],\n",
    "                    \"Growth Score\": [],\n",
    "                }\n",
    "        \n",
    "    if modelo_escolhido == \"Linear\":\n",
    "         \n",
    "         tabela = {\n",
    "                    \"Placa\": [],\n",
    "                    \"Poços\": [],\n",
    "                    \"Taxa Crescimento\": [],\n",
    "                    \"Nmax\": [],\n",
    "                    \"Tempo lag\": [],\n",
    "                    \"Growth Score\": [],\n",
    "                }\n",
    "\n",
    "    "
   ]
  },
  {
   "cell_type": "code",
   "execution_count": null,
   "metadata": {},
   "outputs": [],
   "source": []
  },
  {
   "cell_type": "code",
   "execution_count": null,
   "metadata": {},
   "outputs": [],
   "source": []
  },
  {
   "cell_type": "code",
   "execution_count": null,
   "metadata": {},
   "outputs": [],
   "source": []
  },
  {
   "cell_type": "markdown",
   "metadata": {},
   "source": [
    "### outra bobice"
   ]
  },
  {
   "cell_type": "code",
   "execution_count": null,
   "metadata": {},
   "outputs": [],
   "source": [
    "\n",
    "\n",
    "tabela_parametros = {\n",
    "                'Poços': {\"STD_da_Curva\": [],\n",
    "                        'Nmax': [],\n",
    "                        'K': [],\n",
    "                        'T-lag': []\n",
    "                    }                \n",
    "            }"
   ]
  },
  {
   "cell_type": "code",
   "execution_count": null,
   "metadata": {},
   "outputs": [],
   "source": []
  },
  {
   "cell_type": "code",
   "execution_count": null,
   "metadata": {},
   "outputs": [],
   "source": []
  },
  {
   "cell_type": "markdown",
   "metadata": {},
   "source": []
  },
  {
   "cell_type": "code",
   "execution_count": null,
   "metadata": {},
   "outputs": [],
   "source": []
  },
  {
   "cell_type": "code",
   "execution_count": null,
   "metadata": {},
   "outputs": [],
   "source": []
  },
  {
   "cell_type": "code",
   "execution_count": null,
   "metadata": {},
   "outputs": [],
   "source": []
  },
  {
   "cell_type": "markdown",
   "metadata": {},
   "source": [
    "## Plotando mais de um gráfico por vez"
   ]
  },
  {
   "cell_type": "code",
   "execution_count": 57,
   "metadata": {},
   "outputs": [
    {
     "ename": "IndentationError",
     "evalue": "expected an indented block after function definition on line 4 (727814728.py, line 9)",
     "output_type": "error",
     "traceback": [
      "\u001b[0;36m  Cell \u001b[0;32mIn[57], line 9\u001b[0;36m\u001b[0m\n\u001b[0;31m    if not bool(tabela):\u001b[0m\n\u001b[0m    ^\u001b[0m\n\u001b[0;31mIndentationError\u001b[0m\u001b[0;31m:\u001b[0m expected an indented block after function definition on line 4\n"
     ]
    }
   ],
   "source": [
    "def modelo_escolhido(modelo,tabela, i):\n",
    "\n",
    "    # Função que define o modelo de tabela caso a tabela estaja vazia:\n",
    "    def gerar_tabela(modelo):\n",
    "        if modelo == \"Linear\":\n",
    "            tabela = {\n",
    "                'Poços': [],\n",
    "                \"STD_da_Curva\": [],\n",
    "                \"Slope\": [],\n",
    "                'Intercept': []\n",
    "            }\n",
    "            return tabela\n",
    "\n",
    "        if modelo == \"Gompertz\":\n",
    "            tabela = {\n",
    "                'Poços': [],\n",
    "                \"STD_da_Curva\": [],\n",
    "                'Nmax': [],\n",
    "                'K': [],\n",
    "                'T-lag': []\n",
    "            }\n",
    "            return tabela\n",
    "\n",
    "        if modelo == \"Exponencial\":\n",
    "            tabela = {\n",
    "                'Poços': [],\n",
    "                \"STD\": [],\n",
    "                \"Slope\": [],\n",
    "                'Intercept': []\n",
    "            }\n",
    "            return tabela\n",
    "\n",
    "\n",
    "\n",
    "    if not bool(tabela): # Se a tabela estiver vazía.\n",
    "        tabela = gerar_tabela(modelo) # Gera uma tabela utilizando o modelo escolhido\n",
    "\n",
    "    # Adiciona os parametros otimizados para cada amostra no dicionario definido anteriormente. \n",
    "    tabela['Poços'].append(i)\n",
    "    tabela['STD_da_Curva'].append(desvio_padrao)\n",
    "    tabela['Nmax'].append(resultado_fit.params[\"Nmax\"].value)\n",
    "    tabela['K'].append(resultado_fit.params[\"k\"].value)\n",
    "    tabela[\"T-lag\"].append(resultado_fit.params[\"tlag\"].value)\n",
    "    \n",
    "    return tabela\n",
    "\n",
    "\n",
    "\n",
    "    tabela['Poços'].append(i)\n",
    "    tabela['STD_da_Curva'].append(desvio_padrao)\n",
    "    tabela['Slope'].append(resultado_fit.params[\"Nmax\"].value)\n",
    "    tabela['Intercep'].append(resultado_fit.params[\"I\"].value)\n",
    "\n",
    "\n",
    "\n",
    "    return tabela \n",
    "    \n",
    "    \n",
    "    "
   ]
  },
  {
   "cell_type": "code",
   "execution_count": null,
   "metadata": {},
   "outputs": [],
   "source": []
  },
  {
   "cell_type": "code",
   "execution_count": null,
   "metadata": {},
   "outputs": [],
   "source": []
  },
  {
   "cell_type": "markdown",
   "metadata": {},
   "source": []
  },
  {
   "cell_type": "code",
   "execution_count": 56,
   "metadata": {},
   "outputs": [],
   "source": [
    "modelo = input('Qual o modelo escolhido? Ex: \"Linear\", \"Exponencial\", \"Gompertz\"')"
   ]
  },
  {
   "cell_type": "code",
   "execution_count": 55,
   "metadata": {},
   "outputs": [
    {
     "ename": "SyntaxError",
     "evalue": "incomplete input (4110753481.py, line 1)",
     "output_type": "error",
     "traceback": [
      "\u001b[0;36m  Cell \u001b[0;32mIn[55], line 1\u001b[0;36m\u001b[0m\n\u001b[0;31m    for i in amostras:\u001b[0m\n\u001b[0m                      ^\u001b[0m\n\u001b[0;31mSyntaxError\u001b[0m\u001b[0;31m:\u001b[0m incomplete input\n"
     ]
    }
   ],
   "source": [
    "tabela = {}\n",
    "\n",
    "for i in amostras:\n",
    "    result_fit, tabela = modelo_escolhido(modelo,tabela,i)\n",
    "    \n"
   ]
  },
  {
   "cell_type": "code",
   "execution_count": null,
   "metadata": {},
   "outputs": [],
   "source": []
  },
  {
   "cell_type": "code",
   "execution_count": null,
   "metadata": {},
   "outputs": [],
   "source": []
  },
  {
   "cell_type": "code",
   "execution_count": 161,
   "metadata": {},
   "outputs": [
    {
     "data": {
      "image/png": "[encoded data removed]",
      "text/plain": [
       "<Figure size 640x480 with 1 Axes>"
      ]
     },
     "metadata": {},
     "output_type": "display_data"
    },
    {
     "name": "stdout",
     "output_type": "stream",
     "text": [
      "           Poços  STD_da_Curva      Nmax         K      T-lag\n",
      "0    Poço-A(4-6)      0.125546  8.228539  0.059105  20.217373\n",
      "1  Poço-C(10-12)      0.125546  8.228539  0.059105  20.217373\n",
      "2    Poço-A(1-3)      0.125546  8.228539  0.059105  20.217373\n",
      "3    Poço-D(1-3)      0.125546  8.228539  0.059105  20.217373\n",
      "4  Poço-B(10-12)      0.125546  8.228539  0.059105  20.217373\n"
     ]
    }
   ],
   "source": [
    "amostras = [\"Poço-A(4-6)\",\"Poço-C(10-12)\",\"Poço-A(1-3)\",\"Poço-D(1-3)\",\"Poço-B(10-12)\"]  # Definindo os poços que serão usados e comparados. \n",
    "\n",
    "modelo_gompertz = Model(gompertz_2) # Definindo qual modelo será usado. \n",
    "\n",
    "params = modelo_gompertz.make_params(Nmax=10, k=0.5, tlag=1) #Definindo Parametros iniciais do modelo\n",
    "params['Nmax'].min = 0  # Limite mínimo para Nmax\n",
    "params['k'].min = 0.01  # Limite mínimo para k\n",
    "params['tlag'].min = 0  # Limite mínimo para tlag\n",
    "\n",
    "\n",
    "#linear_model = Model(linear)\n",
    "\n",
    "# Definir parâmetros iniciais\n",
    "#params = linear_model.make_params(slope=1, intercept=0)\n",
    "\n",
    "\n",
    "\n",
    "# Definindo o dicinionário que vai receber parametros otimizados e que posteriormente irão para uma tabela.\n",
    "tabela = {\n",
    "    'Poços': [],\n",
    "    \"STD_da_Curva\": [],\n",
    "    'Nmax': [],\n",
    "    'K': [],\n",
    "    'T-lag': []\n",
    "}\n",
    "\n",
    "\n",
    "\n",
    "\n",
    "for i in amostras: #Itera cada uma das amostras selecionadas\n",
    "    \n",
    "    x = dici_final[placa][poços][dici_final[placa][poços].columns[0]]\n",
    "    y = dici_final[placa][poços][dici_final[placa][poços].columns[1]]\n",
    "\n",
    "    resultado_fit = modelo_gompertz.fit(y, params, t=x)\n",
    "\n",
    "    residuos = y - resultado_fit.best_fit\n",
    "\n",
    "    # Calcula o desvio padrão dos resíduos\n",
    "    desvio_padrao = np.std(residuos)\n",
    "\n",
    "\n",
    "    #print(resultado_fit.fit_report())\n",
    "\n",
    "    # Adiciona os parametros otimizados para cada amostra no dicionario definido anteriormente. \n",
    "    tabela['Poços'].append(i)\n",
    "    tabela['STD_da_Curva'].append(desvio_padrao)\n",
    "    tabela['Nmax'].append(resultado_fit.params[\"Nmax\"].value)\n",
    "    tabela['K'].append(resultado_fit.params[\"k\"].value)\n",
    "    tabela[\"T-lag\"].append(resultado_fit.params[\"tlag\"].value)\n",
    "\n",
    "\n",
    "\n",
    "\n",
    "    # Criar o gráfico de pontos\n",
    "    plt.plot(x, y, '.')\n",
    "\n",
    "    # Plotar a linha do melhor ajuste\n",
    "    plt.plot(x, resultado_fit.best_fit, '-', label=f\"Melhor ajuste encontrado para {i}\")\n",
    "\n",
    "\n",
    "    plt.fill_between(x, resultado_fit.best_fit - desvio_padrao, resultado_fit.best_fit + desvio_padrao,\n",
    "                    color='gray', alpha=0.3)\n",
    "\n",
    "    # Adicionar legenda\n",
    "    plt.legend()\n",
    "\n",
    "    \n",
    "\n",
    "#plt.figure(figsize=(10, 6))  # Aumenta o tamanho do gráfico (10 de largura e 6 de altura)\n",
    "\n",
    "# Adicionar títulos e legendas aos eixos\n",
    "plt.title(\"Gráfico de Crescimento Microbiano\")\n",
    "plt.xlabel(\"Tempo(horas)\")  # Substitua pelo nome desejado\n",
    "plt.ylabel(\"Green Value\")  # Substitua pelo nome desejado  \n",
    "\n",
    "\n",
    "plt.show()\n",
    "\n",
    "parametros = pd.DataFrame(tabela)\n",
    "print(parametros)\n"
   ]
  },
  {
   "cell_type": "code",
   "execution_count": 37,
   "metadata": {},
   "outputs": [
    {
     "data": {
      "text/plain": [
       "0.01540595917981946"
      ]
     },
     "execution_count": 37,
     "metadata": {},
     "output_type": "execute_result"
    }
   ],
   "source": [
    "resultado_fit.params['Nmax'].stderr\n"
   ]
  },
  {
   "cell_type": "code",
   "execution_count": null,
   "metadata": {},
   "outputs": [],
   "source": []
  },
  {
   "cell_type": "code",
   "execution_count": 38,
   "metadata": {},
   "outputs": [],
   "source": [
    "def teste():\n",
    "\n",
    "    return 10, 15"
   ]
  },
  {
   "cell_type": "code",
   "execution_count": 39,
   "metadata": {},
   "outputs": [],
   "source": [
    "x = teste()[1]"
   ]
  },
  {
   "cell_type": "markdown",
   "metadata": {},
   "source": [
    "# Referencias:"
   ]
  },
  {
   "cell_type": "markdown",
   "metadata": {},
   "source": [
    "[1] https://en.wikipedia.org/wiki/Gompertz_function  \n",
    "[2] Notebooks sobre modelagem de dados disponibilizados pelos professores Daniel Roberto Cassar e James Moraes de Almeida "
   ]
  }
 ],
 "metadata": {
  "kernelspec": {
   "display_name": "base",
   "language": "python",
   "name": "python3"
  },
  "language_info": {
   "codemirror_mode": {
    "name": "ipython",
    "version": 3
   },
   "file_extension": ".py",
   "mimetype": "text/x-python",
   "name": "python",
   "nbconvert_exporter": "python",
   "pygments_lexer": "ipython3",
   "version": "3.12.4"
  }
 },
 "nbformat": 4,
 "nbformat_minor": 2
}
